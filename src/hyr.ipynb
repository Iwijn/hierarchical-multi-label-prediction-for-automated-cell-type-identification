{
 "cells": [
  {
   "cell_type": "code",
   "execution_count": null,
   "id": "d6797478-9721-4416-97af-f512e368c752",
   "metadata": {},
   "outputs": [],
   "source": [
    "import numpy as np\n",
    "import pandas as pd\n",
    "import matplotlib.pyplot as plt\n",
    "import random\n",
    "from sklearn import datasets, neighbors, metrics, tree, svm, preprocessing, model_selection, ensemble\n"
   ]
  },
  {
   "cell_type": "code",
   "execution_count": null,
   "id": "51c59c4a-7324-4cbf-b9a2-921ba0acb2e1",
   "metadata": {},
   "outputs": [
    {
     "name": "stdout",
     "output_type": "stream",
     "text": [
      "CPU times: user 4min 17s, sys: 6.87 s, total: 4min 24s\n",
      "Wall time: 4min 30s\n"
     ]
    }
   ],
   "source": [
    "%%time\n",
    "\n",
    "# load labels\n",
    "labels = pd.read_csv('../data/Lauren/Labels.csv')\n",
    "#labels.head() # to display the first 5 lines of loaded data\n",
    "\n",
    "# load data\n",
    "df = pd.read_csv('../data/Lauren/500_PBMC_3p_LT_Chromium_X_metrics_summary.csv') # takes about 5min\n"
   ]
  },
  {
   "cell_type": "code",
   "execution_count": null,
   "id": "8096e53a-5b74-4a69-8873-4e072d0ffe66",
   "metadata": {},
   "outputs": [
    {
     "name": "stdout",
     "output_type": "stream",
     "text": [
      "CPU times: user 923 ms, sys: 3.89 s, total: 4.82 s\n",
      "Wall time: 4.87 s\n"
     ]
    }
   ],
   "source": [
    "%%time\n",
    "# filter out certain data\n",
    "def gereral_data_filter(df, labels, filter_on, amount_higher_than):\n",
    "    ## Filter info\n",
    "    classes_count = labels.groupby(filter_on).count()\n",
    "    classes_to_keep = list(classes_count[classes_count[classes_count.columns[-1]] >= amount_higher_than].index)\n",
    "    keep_indices = labels[filter_on].isin(classes_to_keep)\n",
    "    \n",
    "    ## delete entries part of class that's too small\n",
    "    return (df[keep_indices], labels[keep_indices])\n",
    "\n",
    "df, labels = gereral_data_filter(df, labels, \"cluster\", 10)"
   ]
  },
  {
   "cell_type": "code",
   "execution_count": null,
   "id": "e1f347f4-9fcc-4ee8-ba20-eec3d46be640",
   "metadata": {},
   "outputs": [],
   "source": [
    "# remove names of cells\n",
    "df = df.drop(columns=[\"Unnamed: 0\"])"
   ]
  },
  {
   "cell_type": "code",
   "execution_count": null,
   "id": "c663c41e-504a-4c07-9e38-038ce803cc8d",
   "metadata": {},
   "outputs": [],
   "source": [
    "def train_linear_nn(data, class_column_name): # todo: give linear classifier as argument\n",
    "    \n",
    "    lin_clf = svm.LinearSVC()\n",
    "    lin_clf.fit(X_train, y_train)\n",
    "    return lin_clf"
   ]
  }
 ],
 "metadata": {
  "kernelspec": {
   "display_name": "ml",
   "language": "python",
   "name": "ml"
  },
  "language_info": {
   "codemirror_mode": {
    "name": "ipython",
    "version": 3
   },
   "file_extension": ".py",
   "mimetype": "text/x-python",
   "name": "python",
   "nbconvert_exporter": "python",
   "pygments_lexer": "ipython3",
   "version": "3.9.7"
  }
 },
 "nbformat": 4,
 "nbformat_minor": 5
}
