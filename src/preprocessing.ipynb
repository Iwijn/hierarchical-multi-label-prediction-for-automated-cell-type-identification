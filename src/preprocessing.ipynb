{
 "cells": [
  {
   "cell_type": "code",
   "execution_count": 1,
   "id": "0d947fb9-8308-4b46-acf1-9e4babbbdb79",
   "metadata": {},
   "outputs": [],
   "source": [
    "import numpy as np\n",
    "import pandas as pd\n",
    "import matplotlib.pyplot as plt\n",
    "import random\n",
    "from sklearn import datasets, neighbors, metrics, tree, svm, preprocessing, model_selection, ensemble\n",
    "from sklearn.base import clone as sklearn_clone\n",
    "from sklearn.model_selection import StratifiedKFold\n",
    "from pprint import pprint"
   ]
  },
  {
   "cell_type": "code",
   "execution_count": 2,
   "id": "2497d711-5f0e-4b7a-9dbd-e55e3cff67e4",
   "metadata": {},
   "outputs": [
    {
     "name": "stdout",
     "output_type": "stream",
     "text": [
      "CPU times: user 16.4 ms, sys: 1.88 s, total: 1.9 s\n",
      "Wall time: 1.93 s\n"
     ]
    },
    {
     "data": {
      "text/html": [
       "<div>\n",
       "<style scoped>\n",
       "    .dataframe tbody tr th:only-of-type {\n",
       "        vertical-align: middle;\n",
       "    }\n",
       "\n",
       "    .dataframe tbody tr th {\n",
       "        vertical-align: top;\n",
       "    }\n",
       "\n",
       "    .dataframe thead th {\n",
       "        text-align: right;\n",
       "    }\n",
       "</style>\n",
       "<table border=\"1\" class=\"dataframe\">\n",
       "  <thead>\n",
       "    <tr style=\"text-align: right;\">\n",
       "      <th></th>\n",
       "      <th>AL627309.1</th>\n",
       "      <th>AL627309.4</th>\n",
       "      <th>AL669831.5</th>\n",
       "      <th>FAM87B</th>\n",
       "      <th>LINC00115</th>\n",
       "      <th>FAM41C</th>\n",
       "      <th>AL645608.3</th>\n",
       "      <th>SAMD11</th>\n",
       "      <th>NOC2L</th>\n",
       "      <th>KLHL17</th>\n",
       "      <th>...</th>\n",
       "      <th>AC005828.2</th>\n",
       "      <th>LINC01977</th>\n",
       "      <th>MEP1B</th>\n",
       "      <th>CSTL1</th>\n",
       "      <th>AL034550.1</th>\n",
       "      <th>JPH2</th>\n",
       "      <th>PRODH2</th>\n",
       "      <th>PSG5</th>\n",
       "      <th>TEX101</th>\n",
       "      <th>AC007663.2</th>\n",
       "    </tr>\n",
       "  </thead>\n",
       "  <tbody>\n",
       "    <tr>\n",
       "      <th>COV013_AAACCCAAGCATCCCG-1</th>\n",
       "      <td>0</td>\n",
       "      <td>0</td>\n",
       "      <td>0</td>\n",
       "      <td>0</td>\n",
       "      <td>0</td>\n",
       "      <td>0</td>\n",
       "      <td>0</td>\n",
       "      <td>0</td>\n",
       "      <td>0</td>\n",
       "      <td>0</td>\n",
       "      <td>...</td>\n",
       "      <td>0</td>\n",
       "      <td>0</td>\n",
       "      <td>0</td>\n",
       "      <td>0</td>\n",
       "      <td>0</td>\n",
       "      <td>0</td>\n",
       "      <td>0</td>\n",
       "      <td>0</td>\n",
       "      <td>0</td>\n",
       "      <td>0</td>\n",
       "    </tr>\n",
       "    <tr>\n",
       "      <th>COV013_AAACCCAAGTGGATTA-1</th>\n",
       "      <td>0</td>\n",
       "      <td>0</td>\n",
       "      <td>0</td>\n",
       "      <td>0</td>\n",
       "      <td>0</td>\n",
       "      <td>0</td>\n",
       "      <td>0</td>\n",
       "      <td>0</td>\n",
       "      <td>0</td>\n",
       "      <td>0</td>\n",
       "      <td>...</td>\n",
       "      <td>0</td>\n",
       "      <td>0</td>\n",
       "      <td>0</td>\n",
       "      <td>0</td>\n",
       "      <td>0</td>\n",
       "      <td>0</td>\n",
       "      <td>0</td>\n",
       "      <td>0</td>\n",
       "      <td>0</td>\n",
       "      <td>0</td>\n",
       "    </tr>\n",
       "    <tr>\n",
       "      <th>COV013_AAACCCACACAACATC-1</th>\n",
       "      <td>0</td>\n",
       "      <td>0</td>\n",
       "      <td>0</td>\n",
       "      <td>0</td>\n",
       "      <td>0</td>\n",
       "      <td>0</td>\n",
       "      <td>0</td>\n",
       "      <td>0</td>\n",
       "      <td>0</td>\n",
       "      <td>0</td>\n",
       "      <td>...</td>\n",
       "      <td>0</td>\n",
       "      <td>0</td>\n",
       "      <td>0</td>\n",
       "      <td>0</td>\n",
       "      <td>0</td>\n",
       "      <td>0</td>\n",
       "      <td>0</td>\n",
       "      <td>0</td>\n",
       "      <td>0</td>\n",
       "      <td>0</td>\n",
       "    </tr>\n",
       "    <tr>\n",
       "      <th>COV013_AAACCCACACGCCAGT-1</th>\n",
       "      <td>0</td>\n",
       "      <td>0</td>\n",
       "      <td>0</td>\n",
       "      <td>0</td>\n",
       "      <td>0</td>\n",
       "      <td>0</td>\n",
       "      <td>0</td>\n",
       "      <td>0</td>\n",
       "      <td>0</td>\n",
       "      <td>0</td>\n",
       "      <td>...</td>\n",
       "      <td>0</td>\n",
       "      <td>0</td>\n",
       "      <td>0</td>\n",
       "      <td>0</td>\n",
       "      <td>0</td>\n",
       "      <td>0</td>\n",
       "      <td>0</td>\n",
       "      <td>0</td>\n",
       "      <td>0</td>\n",
       "      <td>0</td>\n",
       "    </tr>\n",
       "    <tr>\n",
       "      <th>COV013_AAACCCACAGACGATG-1</th>\n",
       "      <td>0</td>\n",
       "      <td>0</td>\n",
       "      <td>0</td>\n",
       "      <td>0</td>\n",
       "      <td>0</td>\n",
       "      <td>0</td>\n",
       "      <td>0</td>\n",
       "      <td>0</td>\n",
       "      <td>0</td>\n",
       "      <td>0</td>\n",
       "      <td>...</td>\n",
       "      <td>0</td>\n",
       "      <td>0</td>\n",
       "      <td>0</td>\n",
       "      <td>0</td>\n",
       "      <td>0</td>\n",
       "      <td>0</td>\n",
       "      <td>0</td>\n",
       "      <td>0</td>\n",
       "      <td>0</td>\n",
       "      <td>0</td>\n",
       "    </tr>\n",
       "  </tbody>\n",
       "</table>\n",
       "<p>5 rows × 24444 columns</p>\n",
       "</div>"
      ],
      "text/plain": [
       "                           AL627309.1  AL627309.4  AL669831.5  FAM87B  \\\n",
       "COV013_AAACCCAAGCATCCCG-1           0           0           0       0   \n",
       "COV013_AAACCCAAGTGGATTA-1           0           0           0       0   \n",
       "COV013_AAACCCACACAACATC-1           0           0           0       0   \n",
       "COV013_AAACCCACACGCCAGT-1           0           0           0       0   \n",
       "COV013_AAACCCACAGACGATG-1           0           0           0       0   \n",
       "\n",
       "                           LINC00115  FAM41C  AL645608.3  SAMD11  NOC2L  \\\n",
       "COV013_AAACCCAAGCATCCCG-1          0       0           0       0      0   \n",
       "COV013_AAACCCAAGTGGATTA-1          0       0           0       0      0   \n",
       "COV013_AAACCCACACAACATC-1          0       0           0       0      0   \n",
       "COV013_AAACCCACACGCCAGT-1          0       0           0       0      0   \n",
       "COV013_AAACCCACAGACGATG-1          0       0           0       0      0   \n",
       "\n",
       "                           KLHL17  ...  AC005828.2  LINC01977  MEP1B  CSTL1  \\\n",
       "COV013_AAACCCAAGCATCCCG-1       0  ...           0          0      0      0   \n",
       "COV013_AAACCCAAGTGGATTA-1       0  ...           0          0      0      0   \n",
       "COV013_AAACCCACACAACATC-1       0  ...           0          0      0      0   \n",
       "COV013_AAACCCACACGCCAGT-1       0  ...           0          0      0      0   \n",
       "COV013_AAACCCACAGACGATG-1       0  ...           0          0      0      0   \n",
       "\n",
       "                           AL034550.1  JPH2  PRODH2  PSG5  TEX101  AC007663.2  \n",
       "COV013_AAACCCAAGCATCCCG-1           0     0       0     0       0           0  \n",
       "COV013_AAACCCAAGTGGATTA-1           0     0       0     0       0           0  \n",
       "COV013_AAACCCACACAACATC-1           0     0       0     0       0           0  \n",
       "COV013_AAACCCACACGCCAGT-1           0     0       0     0       0           0  \n",
       "COV013_AAACCCACAGACGATG-1           0     0       0     0       0           0  \n",
       "\n",
       "[5 rows x 24444 columns]"
      ]
     },
     "execution_count": 2,
     "metadata": {},
     "output_type": "execute_result"
    }
   ],
   "source": [
    "%%time\n",
    "df = pd.read_pickle(\"../data/Lauren/covid_df.pkl\")\n",
    "labels = pd.read_pickle(\"../data/Lauren/covid_labels.pkl\")\n",
    "df.head()"
   ]
  },
  {
   "cell_type": "code",
   "execution_count": 3,
   "id": "ba86d5ad-b99e-4fa9-ba99-5c48ba17c5cd",
   "metadata": {},
   "outputs": [],
   "source": [
    "# df.describe()"
   ]
  },
  {
   "cell_type": "markdown",
   "id": "cde58bb7-f3c3-4995-ab75-a91114c03b4f",
   "metadata": {},
   "source": [
    "## 1. Removing all-zero columns"
   ]
  },
  {
   "cell_type": "code",
   "execution_count": 4,
   "id": "b0c4bb78-54d6-4ce6-a750-77d1490d6e76",
   "metadata": {},
   "outputs": [
    {
     "name": "stdout",
     "output_type": "stream",
     "text": [
      "AL627309.1     True\n",
      "AL627309.4    False\n",
      "AL669831.5     True\n",
      "FAM87B         True\n",
      "LINC00115      True\n",
      "              ...  \n",
      "JPH2          False\n",
      "PRODH2        False\n",
      "PSG5          False\n",
      "TEX101        False\n",
      "AC007663.2    False\n",
      "Length: 24444, dtype: bool\n",
      "21044\n"
     ]
    },
    {
     "data": {
      "text/plain": [
       "(19240, 21044)"
      ]
     },
     "execution_count": 4,
     "metadata": {},
     "output_type": "execute_result"
    }
   ],
   "source": [
    "nonzero = df.sum() > 0\n",
    "print(nonzero)\n",
    "print(sum(nonzero))\n",
    "df = df.loc[:,nonzero]\n",
    "df.shape"
   ]
  },
  {
   "cell_type": "code",
   "execution_count": 5,
   "id": "da39b6b6-0c9a-4fdb-beb5-7d5701de12e0",
   "metadata": {},
   "outputs": [],
   "source": [
    "df.to_pickle(  \"../data/Lauren/covid_df_filtered.pkl\")"
   ]
  },
  {
   "cell_type": "markdown",
   "id": "ccfdbd78-bc2b-41d9-9a77-b0e415618e8f",
   "metadata": {},
   "source": [
    "## 2. Low counts\n",
    "\n",
    "There are columns that have mostly zeros, except for a few other numbers. Filter those columns out."
   ]
  },
  {
   "cell_type": "code",
   "execution_count": 6,
   "id": "ae497ba6-70d2-40a4-a606-8a0562a20566",
   "metadata": {},
   "outputs": [],
   "source": [
    "\n",
    "def remove_less_than_X_nonzeros(df, X):\n",
    "    a = []\n",
    "    for (columnName, columnData) in df.iteritems():\n",
    "        counts = df[columnName].value_counts() # This is sorted with the highest first (a lot of zeros)\n",
    "        sum_of_others = df.shape[0] - counts[0]\n",
    "        if sum_of_others < X:\n",
    "            a.append(columnName)\n",
    "    print(f\"Removing {len(a)} columns\")\n",
    "    return df.drop(columns=a)\n"
   ]
  },
  {
   "cell_type": "code",
   "execution_count": 7,
   "id": "9a3758e3-5192-4fca-a3cc-a6bd586eaca4",
   "metadata": {},
   "outputs": [
    {
     "name": "stdout",
     "output_type": "stream",
     "text": [
      "Removing 2953 columns\n",
      "Removing 4519 columns\n",
      "Removing 7809 columns\n",
      "Removing 13185 columns\n"
     ]
    }
   ],
   "source": [
    "df_10   = remove_less_than_X_nonzeros(df, 10)\n",
    "df_20   = remove_less_than_X_nonzeros(df, 20)\n",
    "df_100  = remove_less_than_X_nonzeros(df, 100)\n",
    "df_1000 = remove_less_than_X_nonzeros(df, 1000)"
   ]
  },
  {
   "cell_type": "code",
   "execution_count": 8,
   "id": "e8ca2eba-0dca-4156-bc6f-85cbd453a4cb",
   "metadata": {},
   "outputs": [],
   "source": [
    "df_10.to_pickle(  \"../data/Lauren/covid_df_filtered_X_0010.pkl\")\n",
    "del df_10\n",
    "df_20.to_pickle(  \"../data/Lauren/covid_df_filtered_X_0020.pkl\")\n",
    "del df_20\n",
    "df_100.to_pickle( \"../data/Lauren/covid_df_filtered_X_0100.pkl\")\n",
    "del df_100\n",
    "df_1000.to_pickle(\"../data/Lauren/covid_df_filtered_X_1000.pkl\")"
   ]
  },
  {
   "cell_type": "code",
   "execution_count": null,
   "id": "614076b2-42b3-4bd3-97e1-46171352f0b4",
   "metadata": {},
   "outputs": [],
   "source": []
  }
 ],
 "metadata": {
  "kernelspec": {
   "display_name": "ml",
   "language": "python",
   "name": "ml"
  },
  "language_info": {
   "codemirror_mode": {
    "name": "ipython",
    "version": 3
   },
   "file_extension": ".py",
   "mimetype": "text/x-python",
   "name": "python",
   "nbconvert_exporter": "python",
   "pygments_lexer": "ipython3",
   "version": "3.9.7"
  }
 },
 "nbformat": 4,
 "nbformat_minor": 5
}
