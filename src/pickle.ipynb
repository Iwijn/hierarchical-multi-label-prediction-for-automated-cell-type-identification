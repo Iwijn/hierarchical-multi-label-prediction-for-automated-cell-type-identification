{
 "cells": [
  {
   "cell_type": "code",
   "execution_count": null,
   "id": "57a0793c-93fa-414e-ac94-453480105048",
   "metadata": {},
   "outputs": [],
   "source": [
    "import pandas as pd"
   ]
  },
  {
   "cell_type": "code",
   "execution_count": null,
   "id": "e808dd08-b777-4b48-ac39-eddc439f7963",
   "metadata": {},
   "outputs": [],
   "source": [
    "# filter out certain data\n",
    "def gereral_data_filter(df, labels, filter_on, amount_higher_than):\n",
    "    ## Filter info\n",
    "    classes_count = labels.groupby(filter_on).count()\n",
    "    classes_to_keep = list(classes_count[classes_count[classes_count.columns[-1]] >= amount_higher_than].index)\n",
    "    keep_indices = labels[filter_on].isin(classes_to_keep)\n",
    "    \n",
    "    ## delete entries part of class that's too small, remove names column\n",
    "    return (df[keep_indices].drop(columns=[\"Unnamed: 0\"]), labels[keep_indices])"
   ]
  },
  {
   "cell_type": "markdown",
   "id": "c0b07479-9e14-4514-8d52-6d7724e2fc79",
   "metadata": {},
   "source": [
    "# First dataset"
   ]
  },
  {
   "cell_type": "code",
   "execution_count": null,
   "id": "f7912f86-b520-4458-ba25-22784a03ccc3",
   "metadata": {},
   "outputs": [
    {
     "name": "stdout",
     "output_type": "stream",
     "text": [
      "CPU times: user 4min 30s, sys: 6.65 s, total: 4min 36s\n",
      "Wall time: 4min 41s\n"
     ]
    }
   ],
   "source": [
    "%%time\n",
    "\n",
    "# load labels\n",
    "labels = pd.read_csv('../data/Lauren/Labels.csv')\n",
    "#labels.head() # to display the first 5 lines of loaded data\n",
    "\n",
    "# load data\n",
    "df = pd.read_csv('../data/Lauren/Filtered_mouse_allen_brain_data.csv') # takes about 5min\n"
   ]
  },
  {
   "cell_type": "code",
   "execution_count": null,
   "id": "70ce1e33-a68f-44c7-865a-b0b88a23fce4",
   "metadata": {},
   "outputs": [
    {
     "name": "stdout",
     "output_type": "stream",
     "text": [
      "CPU times: user 1.57 s, sys: 15.3 s, total: 16.9 s\n",
      "Wall time: 17 s\n"
     ]
    }
   ],
   "source": [
    "%%time\n",
    "\n",
    "df, labels = gereral_data_filter(df, labels, \"cluster\", 10)"
   ]
  },
  {
   "cell_type": "code",
   "execution_count": null,
   "id": "4ec97824-e578-4ec4-9ef4-84d3bea69afd",
   "metadata": {},
   "outputs": [],
   "source": [
    "df.to_pickle(\"../data/Lauren/bam_df.pkl\")\n",
    "labels.to_pickle(\"../data/Lauren/bam_labels.pkl\")"
   ]
  },
  {
   "cell_type": "markdown",
   "id": "146e1f57-c3dc-4c2e-9706-5094328cff12",
   "metadata": {},
   "source": [
    "# Second dataset"
   ]
  },
  {
   "cell_type": "code",
   "execution_count": null,
   "id": "e49d947a-f92b-41b8-b8c7-89b6cc7d62e2",
   "metadata": {},
   "outputs": [
    {
     "name": "stdout",
     "output_type": "stream",
     "text": [
      "CPU times: user 2min 6s, sys: 4.11 s, total: 2min 10s\n",
      "Wall time: 2min 10s\n"
     ]
    }
   ],
   "source": [
    "%%time\n",
    "\n",
    "# load labels\n",
    "labels = pd.read_csv('../data/Lauren/CovidBALLabel.csv', usecols=range(1, 7), names=range(-1, 6))\n",
    "\n",
    "# load data\n",
    "df = pd.read_csv('../data/Lauren/CovidBALCounts.csv')\n"
   ]
  },
  {
   "cell_type": "code",
   "execution_count": null,
   "id": "06ea3c2d-0785-47f1-ae8a-62a468623a13",
   "metadata": {},
   "outputs": [
    {
     "data": {
      "text/html": [
       "<div>\n",
       "<style scoped>\n",
       "    .dataframe tbody tr th:only-of-type {\n",
       "        vertical-align: middle;\n",
       "    }\n",
       "\n",
       "    .dataframe tbody tr th {\n",
       "        vertical-align: top;\n",
       "    }\n",
       "\n",
       "    .dataframe thead th {\n",
       "        text-align: right;\n",
       "    }\n",
       "</style>\n",
       "<table border=\"1\" class=\"dataframe\">\n",
       "  <thead>\n",
       "    <tr style=\"text-align: right;\">\n",
       "      <th></th>\n",
       "      <th>0</th>\n",
       "      <th>1</th>\n",
       "      <th>2</th>\n",
       "      <th>3</th>\n",
       "      <th>4</th>\n",
       "      <th>5</th>\n",
       "    </tr>\n",
       "  </thead>\n",
       "  <tbody>\n",
       "    <tr>\n",
       "      <th>0</th>\n",
       "      <td>G</td>\n",
       "      <td>Neutrophils</td>\n",
       "      <td>NaN</td>\n",
       "      <td>NaN</td>\n",
       "      <td>NaN</td>\n",
       "      <td>NaN</td>\n",
       "    </tr>\n",
       "    <tr>\n",
       "      <th>1</th>\n",
       "      <td>L</td>\n",
       "      <td>T</td>\n",
       "      <td>CD4</td>\n",
       "      <td>naive</td>\n",
       "      <td>naive1</td>\n",
       "      <td>NaN</td>\n",
       "    </tr>\n",
       "    <tr>\n",
       "      <th>2</th>\n",
       "      <td>Prolif</td>\n",
       "      <td>L</td>\n",
       "      <td>T</td>\n",
       "      <td>CD4</td>\n",
       "      <td>NaN</td>\n",
       "      <td>NaN</td>\n",
       "    </tr>\n",
       "    <tr>\n",
       "      <th>3</th>\n",
       "      <td>L</td>\n",
       "      <td>T</td>\n",
       "      <td>CD4</td>\n",
       "      <td>exhaust</td>\n",
       "      <td>NaN</td>\n",
       "      <td>NaN</td>\n",
       "    </tr>\n",
       "    <tr>\n",
       "      <th>4</th>\n",
       "      <td>Epi</td>\n",
       "      <td>Ionocyte</td>\n",
       "      <td>NaN</td>\n",
       "      <td>NaN</td>\n",
       "      <td>NaN</td>\n",
       "      <td>NaN</td>\n",
       "    </tr>\n",
       "  </tbody>\n",
       "</table>\n",
       "</div>"
      ],
      "text/plain": [
       "        0            1    2        3       4    5\n",
       "0       G  Neutrophils  NaN      NaN     NaN  NaN\n",
       "1       L            T  CD4    naive  naive1  NaN\n",
       "2  Prolif            L    T      CD4     NaN  NaN\n",
       "3       L            T  CD4  exhaust     NaN  NaN\n",
       "4     Epi     Ionocyte  NaN      NaN     NaN  NaN"
      ]
     },
     "execution_count": 7,
     "metadata": {},
     "output_type": "execute_result"
    }
   ],
   "source": [
    "labels.head()"
   ]
  },
  {
   "cell_type": "code",
   "execution_count": null,
   "id": "da5278ec-5147-45eb-8a0b-fbc7e15dd225",
   "metadata": {},
   "outputs": [],
   "source": [
    "df.to_pickle(\"../data/Lauren/covid_df.pkl\")\n",
    "labels.to_pickle(\"../data/Lauren/covid_labels.pkl\")"
   ]
  },
  {
   "cell_type": "code",
   "execution_count": null,
   "id": "9068213a-3331-4653-bc09-7bd5292428c5",
   "metadata": {},
   "outputs": [],
   "source": [
    "%%time\n",
    "df = pd.read_pickle(\"../data/Lauren/ba_df.pkl\")\n",
    "labels = pd.read_pickle(\"../data/Lauren/bam_labels.pkl\")"
   ]
  }
 ],
 "metadata": {
  "kernelspec": {
   "display_name": "",
   "name": ""
  },
  "language_info": {
   "name": ""
  }
 },
 "nbformat": 4,
 "nbformat_minor": 5
}
