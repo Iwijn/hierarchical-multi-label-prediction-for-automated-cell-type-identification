{
 "cells": [
  {
   "cell_type": "code",
   "execution_count": 1,
   "id": "57a0793c-93fa-414e-ac94-453480105048",
   "metadata": {},
   "outputs": [],
   "source": [
    "import pandas as pd"
   ]
  },
  {
   "cell_type": "code",
   "execution_count": null,
   "id": "e808dd08-b777-4b48-ac39-eddc439f7963",
   "metadata": {},
   "outputs": [],
   "source": [
    "# filter out certain data\n",
    "def gereral_data_filter(df, labels, filter_on, amount_higher_than):\n",
    "    ## Filter info\n",
    "    classes_count = labels.groupby(filter_on).count()\n",
    "    classes_to_keep = list(classes_count[classes_count[classes_count.columns[-1]] >= amount_higher_than].index)\n",
    "    keep_indices = labels[filter_on].isin(classes_to_keep)\n",
    "    \n",
    "    ## delete entries part of class that's too small, remove names column\n",
    "    return (df[keep_indices].drop(columns=[\"Unnamed: 0\"]), labels[keep_indices])"
   ]
  },
  {
   "cell_type": "markdown",
   "id": "c0b07479-9e14-4514-8d52-6d7724e2fc79",
   "metadata": {},
   "source": [
    "# First dataset"
   ]
  },
  {
   "cell_type": "code",
   "execution_count": null,
   "id": "f7912f86-b520-4458-ba25-22784a03ccc3",
   "metadata": {},
   "outputs": [
    {
     "name": "stdout",
     "output_type": "stream",
     "text": [
      "CPU times: user 4min 30s, sys: 6.65 s, total: 4min 36s\n",
      "Wall time: 4min 41s\n"
     ]
    }
   ],
   "source": [
    "%%time\n",
    "\n",
    "# load labels\n",
    "labels = pd.read_csv('../data/Lauren/Labels.csv')\n",
    "#labels.head() # to display the first 5 lines of loaded data\n",
    "\n",
    "# load data\n",
    "df = pd.read_csv('../data/Lauren/Filtered_mouse_allen_brain_data.csv') # takes about 5min\n"
   ]
  },
  {
   "cell_type": "code",
   "execution_count": null,
   "id": "70ce1e33-a68f-44c7-865a-b0b88a23fce4",
   "metadata": {},
   "outputs": [
    {
     "name": "stdout",
     "output_type": "stream",
     "text": [
      "CPU times: user 1.57 s, sys: 15.3 s, total: 16.9 s\n",
      "Wall time: 17 s\n"
     ]
    }
   ],
   "source": [
    "%%time\n",
    "\n",
    "df, labels = gereral_data_filter(df, labels, \"cluster\", 10)"
   ]
  },
  {
   "cell_type": "code",
   "execution_count": null,
   "id": "4ec97824-e578-4ec4-9ef4-84d3bea69afd",
   "metadata": {},
   "outputs": [],
   "source": [
    "df.to_pickle(\"../data/Lauren/bam_df.pkl\")\n",
    "labels.to_pickle(\"../data/Lauren/bam_labels.pkl\")"
   ]
  },
  {
   "cell_type": "markdown",
   "id": "146e1f57-c3dc-4c2e-9706-5094328cff12",
   "metadata": {},
   "source": [
    "# Second dataset\n",
    "\n",
    "**This cell might give a random warning**"
   ]
  },
  {
   "cell_type": "code",
   "execution_count": 4,
   "id": "832582b6-ce52-4f62-81ad-0fc6ca9d7fe2",
   "metadata": {},
   "outputs": [
    {
     "name": "stdout",
     "output_type": "stream",
     "text": [
      "CPU times: user 2min 8s, sys: 9.39 s, total: 2min 17s\n",
      "Wall time: 2min 23s\n"
     ]
    }
   ],
   "source": [
    "%%time\n",
    "\n",
    "# load labels\n",
    "labels = pd.read_csv('../data/Lauren/CovidBALLabel.csv', names=range(-2, 6), usecols=range(2, 8), sep=\"[_,]\", engine=\"python\")\n",
    "labels_orig = pd.read_csv('../data/Lauren/CovidBALLabel.csv', names=[\"-\", \"hyr\"], usecols=[1], sep=\",\")\n",
    "\n",
    "# load data\n",
    "df = pd.read_csv('../data/Lauren/CovidBALCounts.csv')\n",
    "df = df.transpose()\n"
   ]
  },
  {
   "cell_type": "code",
   "execution_count": 5,
   "id": "06ea3c2d-0785-47f1-ae8a-62a468623a13",
   "metadata": {},
   "outputs": [
    {
     "name": "stdout",
     "output_type": "stream",
     "text": [
      "(19282, 6)\n",
      "(19282, 1)\n",
      "(19282, 24444)\n"
     ]
    }
   ],
   "source": [
    "print(labels.shape)\n",
    "print(labels_orig.shape)\n",
    "print(df.shape)"
   ]
  },
  {
   "cell_type": "code",
   "execution_count": 6,
   "id": "1cec4a9d-29b7-4418-a731-905b4afe9a5c",
   "metadata": {},
   "outputs": [
    {
     "name": "stdout",
     "output_type": "stream",
     "text": [
      "        0            1     2        3       4     5\n",
      "0       G  Neutrophils  None     None    None  None\n",
      "1       L            T   CD4    naive  naive1  None\n",
      "2  Prolif            L     T      CD4    None  None\n",
      "3       L            T   CD4  exhaust    None  None\n",
      "4     Epi     Ionocyte  None     None    None  None\n",
      "                    hyr\n",
      "0         G_Neutrophils\n",
      "1  L_T_CD4_naive_naive1\n",
      "2        Prolif_L_T_CD4\n",
      "3       L_T_CD4_exhaust\n",
      "4          Epi_Ionocyte\n",
      "                           AL627309.1  AL627309.4  AL669831.5  FAM87B  \\\n",
      "COV013_AAACCCAAGCATCCCG-1           0           0           0       0   \n",
      "COV013_AAACCCAAGTGGATTA-1           0           0           0       0   \n",
      "COV013_AAACCCACACAACATC-1           0           0           0       0   \n",
      "COV013_AAACCCACACGCCAGT-1           0           0           0       0   \n",
      "COV013_AAACCCACACGTACAT-1           0           0           1       0   \n",
      "\n",
      "                           LINC00115  FAM41C  AL645608.3  SAMD11  NOC2L  \\\n",
      "COV013_AAACCCAAGCATCCCG-1          0       0           0       0      0   \n",
      "COV013_AAACCCAAGTGGATTA-1          0       0           0       0      0   \n",
      "COV013_AAACCCACACAACATC-1          0       0           0       0      0   \n",
      "COV013_AAACCCACACGCCAGT-1          0       0           0       0      0   \n",
      "COV013_AAACCCACACGTACAT-1          0       0           0       0      0   \n",
      "\n",
      "                           KLHL17  ...  AC005828.2  LINC01977  MEP1B  CSTL1  \\\n",
      "COV013_AAACCCAAGCATCCCG-1       0  ...           0          0      0      0   \n",
      "COV013_AAACCCAAGTGGATTA-1       0  ...           0          0      0      0   \n",
      "COV013_AAACCCACACAACATC-1       0  ...           0          0      0      0   \n",
      "COV013_AAACCCACACGCCAGT-1       0  ...           0          0      0      0   \n",
      "COV013_AAACCCACACGTACAT-1       0  ...           0          0      0      0   \n",
      "\n",
      "                           AL034550.1  JPH2  PRODH2  PSG5  TEX101  AC007663.2  \n",
      "COV013_AAACCCAAGCATCCCG-1           0     0       0     0       0           0  \n",
      "COV013_AAACCCAAGTGGATTA-1           0     0       0     0       0           0  \n",
      "COV013_AAACCCACACAACATC-1           0     0       0     0       0           0  \n",
      "COV013_AAACCCACACGCCAGT-1           0     0       0     0       0           0  \n",
      "COV013_AAACCCACACGTACAT-1           0     0       0     0       0           0  \n",
      "\n",
      "[5 rows x 24444 columns]\n"
     ]
    }
   ],
   "source": [
    "print(labels.head())\n",
    "print(labels_orig.head())\n",
    "print(df.head())"
   ]
  },
  {
   "cell_type": "code",
   "execution_count": 7,
   "id": "f88ab63e-32a6-4df4-9886-921b01a48773",
   "metadata": {},
   "outputs": [
    {
     "name": "stdout",
     "output_type": "stream",
     "text": [
      "42 rows removed\n"
     ]
    }
   ],
   "source": [
    "# filteren tests\n",
    "amount_higher_than=10\n",
    "\n",
    "classes_count = labels_orig.value_counts()\n",
    "classes_to_keep = classes_count[classes_count >= amount_higher_than]\n",
    "classes_to_keep = [l[0] for l in classes_to_keep.index.values]\n",
    "\n",
    "keep_indices = labels_orig[\"hyr\"].isin(classes_to_keep)\n",
    "\n",
    "orig_len = labels.shape[0]\n",
    "labels_filtered = labels[keep_indices]\n",
    "\n",
    "keep_indices.index = df.index\n",
    "df_filtered = df[keep_indices]\n",
    "\n",
    "print(f\"{orig_len - len(df_filtered)} rows removed\")"
   ]
  },
  {
   "cell_type": "code",
   "execution_count": 8,
   "id": "25108ba3-6b99-4e80-8f5e-f090948cd01d",
   "metadata": {},
   "outputs": [
    {
     "name": "stdout",
     "output_type": "stream",
     "text": [
      "(19240, 6)\n",
      "(19240, 24444)\n"
     ]
    }
   ],
   "source": [
    "print(labels_filtered.shape)\n",
    "print(df_filtered.shape)"
   ]
  },
  {
   "cell_type": "code",
   "execution_count": 12,
   "id": "da5278ec-5147-45eb-8a0b-fbc7e15dd225",
   "metadata": {},
   "outputs": [
    {
     "name": "stdout",
     "output_type": "stream",
     "text": [
      "CPU times: user 279 ms, sys: 2.54 s, total: 2.82 s\n",
      "Wall time: 6.59 s\n"
     ]
    }
   ],
   "source": [
    "%%time\n",
    "\n",
    "df_filtered.to_pickle(\"../data/Lauren/covid_df.pkl\")\n",
    "labels_filtered.to_pickle(\"../data/Lauren/covid_labels.pkl\")"
   ]
  },
  {
   "cell_type": "code",
   "execution_count": 10,
   "id": "9068213a-3331-4653-bc09-7bd5292428c5",
   "metadata": {},
   "outputs": [
    {
     "name": "stdout",
     "output_type": "stream",
     "text": [
      "CPU times: user 39.6 ms, sys: 3.44 s, total: 3.48 s\n",
      "Wall time: 3.81 s\n"
     ]
    },
    {
     "data": {
      "text/html": [
       "<div>\n",
       "<style scoped>\n",
       "    .dataframe tbody tr th:only-of-type {\n",
       "        vertical-align: middle;\n",
       "    }\n",
       "\n",
       "    .dataframe tbody tr th {\n",
       "        vertical-align: top;\n",
       "    }\n",
       "\n",
       "    .dataframe thead th {\n",
       "        text-align: right;\n",
       "    }\n",
       "</style>\n",
       "<table border=\"1\" class=\"dataframe\">\n",
       "  <thead>\n",
       "    <tr style=\"text-align: right;\">\n",
       "      <th></th>\n",
       "      <th>AL627309.1</th>\n",
       "      <th>AL627309.4</th>\n",
       "      <th>AL669831.5</th>\n",
       "      <th>FAM87B</th>\n",
       "      <th>LINC00115</th>\n",
       "      <th>FAM41C</th>\n",
       "      <th>AL645608.3</th>\n",
       "      <th>SAMD11</th>\n",
       "      <th>NOC2L</th>\n",
       "      <th>KLHL17</th>\n",
       "      <th>...</th>\n",
       "      <th>AC005828.2</th>\n",
       "      <th>LINC01977</th>\n",
       "      <th>MEP1B</th>\n",
       "      <th>CSTL1</th>\n",
       "      <th>AL034550.1</th>\n",
       "      <th>JPH2</th>\n",
       "      <th>PRODH2</th>\n",
       "      <th>PSG5</th>\n",
       "      <th>TEX101</th>\n",
       "      <th>AC007663.2</th>\n",
       "    </tr>\n",
       "  </thead>\n",
       "  <tbody>\n",
       "    <tr>\n",
       "      <th>COV013_AAACCCAAGCATCCCG-1</th>\n",
       "      <td>0</td>\n",
       "      <td>0</td>\n",
       "      <td>0</td>\n",
       "      <td>0</td>\n",
       "      <td>0</td>\n",
       "      <td>0</td>\n",
       "      <td>0</td>\n",
       "      <td>0</td>\n",
       "      <td>0</td>\n",
       "      <td>0</td>\n",
       "      <td>...</td>\n",
       "      <td>0</td>\n",
       "      <td>0</td>\n",
       "      <td>0</td>\n",
       "      <td>0</td>\n",
       "      <td>0</td>\n",
       "      <td>0</td>\n",
       "      <td>0</td>\n",
       "      <td>0</td>\n",
       "      <td>0</td>\n",
       "      <td>0</td>\n",
       "    </tr>\n",
       "    <tr>\n",
       "      <th>COV013_AAACCCAAGTGGATTA-1</th>\n",
       "      <td>0</td>\n",
       "      <td>0</td>\n",
       "      <td>0</td>\n",
       "      <td>0</td>\n",
       "      <td>0</td>\n",
       "      <td>0</td>\n",
       "      <td>0</td>\n",
       "      <td>0</td>\n",
       "      <td>0</td>\n",
       "      <td>0</td>\n",
       "      <td>...</td>\n",
       "      <td>0</td>\n",
       "      <td>0</td>\n",
       "      <td>0</td>\n",
       "      <td>0</td>\n",
       "      <td>0</td>\n",
       "      <td>0</td>\n",
       "      <td>0</td>\n",
       "      <td>0</td>\n",
       "      <td>0</td>\n",
       "      <td>0</td>\n",
       "    </tr>\n",
       "    <tr>\n",
       "      <th>COV013_AAACCCACACAACATC-1</th>\n",
       "      <td>0</td>\n",
       "      <td>0</td>\n",
       "      <td>0</td>\n",
       "      <td>0</td>\n",
       "      <td>0</td>\n",
       "      <td>0</td>\n",
       "      <td>0</td>\n",
       "      <td>0</td>\n",
       "      <td>0</td>\n",
       "      <td>0</td>\n",
       "      <td>...</td>\n",
       "      <td>0</td>\n",
       "      <td>0</td>\n",
       "      <td>0</td>\n",
       "      <td>0</td>\n",
       "      <td>0</td>\n",
       "      <td>0</td>\n",
       "      <td>0</td>\n",
       "      <td>0</td>\n",
       "      <td>0</td>\n",
       "      <td>0</td>\n",
       "    </tr>\n",
       "    <tr>\n",
       "      <th>COV013_AAACCCACACGCCAGT-1</th>\n",
       "      <td>0</td>\n",
       "      <td>0</td>\n",
       "      <td>0</td>\n",
       "      <td>0</td>\n",
       "      <td>0</td>\n",
       "      <td>0</td>\n",
       "      <td>0</td>\n",
       "      <td>0</td>\n",
       "      <td>0</td>\n",
       "      <td>0</td>\n",
       "      <td>...</td>\n",
       "      <td>0</td>\n",
       "      <td>0</td>\n",
       "      <td>0</td>\n",
       "      <td>0</td>\n",
       "      <td>0</td>\n",
       "      <td>0</td>\n",
       "      <td>0</td>\n",
       "      <td>0</td>\n",
       "      <td>0</td>\n",
       "      <td>0</td>\n",
       "    </tr>\n",
       "    <tr>\n",
       "      <th>COV013_AAACCCACAGACGATG-1</th>\n",
       "      <td>0</td>\n",
       "      <td>0</td>\n",
       "      <td>0</td>\n",
       "      <td>0</td>\n",
       "      <td>0</td>\n",
       "      <td>0</td>\n",
       "      <td>0</td>\n",
       "      <td>0</td>\n",
       "      <td>0</td>\n",
       "      <td>0</td>\n",
       "      <td>...</td>\n",
       "      <td>0</td>\n",
       "      <td>0</td>\n",
       "      <td>0</td>\n",
       "      <td>0</td>\n",
       "      <td>0</td>\n",
       "      <td>0</td>\n",
       "      <td>0</td>\n",
       "      <td>0</td>\n",
       "      <td>0</td>\n",
       "      <td>0</td>\n",
       "    </tr>\n",
       "  </tbody>\n",
       "</table>\n",
       "<p>5 rows × 24444 columns</p>\n",
       "</div>"
      ],
      "text/plain": [
       "                           AL627309.1  AL627309.4  AL669831.5  FAM87B  \\\n",
       "COV013_AAACCCAAGCATCCCG-1           0           0           0       0   \n",
       "COV013_AAACCCAAGTGGATTA-1           0           0           0       0   \n",
       "COV013_AAACCCACACAACATC-1           0           0           0       0   \n",
       "COV013_AAACCCACACGCCAGT-1           0           0           0       0   \n",
       "COV013_AAACCCACAGACGATG-1           0           0           0       0   \n",
       "\n",
       "                           LINC00115  FAM41C  AL645608.3  SAMD11  NOC2L  \\\n",
       "COV013_AAACCCAAGCATCCCG-1          0       0           0       0      0   \n",
       "COV013_AAACCCAAGTGGATTA-1          0       0           0       0      0   \n",
       "COV013_AAACCCACACAACATC-1          0       0           0       0      0   \n",
       "COV013_AAACCCACACGCCAGT-1          0       0           0       0      0   \n",
       "COV013_AAACCCACAGACGATG-1          0       0           0       0      0   \n",
       "\n",
       "                           KLHL17  ...  AC005828.2  LINC01977  MEP1B  CSTL1  \\\n",
       "COV013_AAACCCAAGCATCCCG-1       0  ...           0          0      0      0   \n",
       "COV013_AAACCCAAGTGGATTA-1       0  ...           0          0      0      0   \n",
       "COV013_AAACCCACACAACATC-1       0  ...           0          0      0      0   \n",
       "COV013_AAACCCACACGCCAGT-1       0  ...           0          0      0      0   \n",
       "COV013_AAACCCACAGACGATG-1       0  ...           0          0      0      0   \n",
       "\n",
       "                           AL034550.1  JPH2  PRODH2  PSG5  TEX101  AC007663.2  \n",
       "COV013_AAACCCAAGCATCCCG-1           0     0       0     0       0           0  \n",
       "COV013_AAACCCAAGTGGATTA-1           0     0       0     0       0           0  \n",
       "COV013_AAACCCACACAACATC-1           0     0       0     0       0           0  \n",
       "COV013_AAACCCACACGCCAGT-1           0     0       0     0       0           0  \n",
       "COV013_AAACCCACAGACGATG-1           0     0       0     0       0           0  \n",
       "\n",
       "[5 rows x 24444 columns]"
      ]
     },
     "execution_count": 10,
     "metadata": {},
     "output_type": "execute_result"
    }
   ],
   "source": [
    "%%time\n",
    "\n",
    "# TEST loading\n",
    "df = pd.read_pickle(\"../data/Lauren/covid_df.pkl\")\n",
    "labels = pd.read_pickle(\"../data/Lauren/covid_labels.pkl\")\n",
    "labels.head()\n",
    "df.head()"
   ]
  },
  {
   "cell_type": "code",
   "execution_count": null,
   "id": "cca23e25-4ccc-40f2-bc45-bb2bae2f838c",
   "metadata": {},
   "outputs": [],
   "source": []
  }
 ],
 "metadata": {
  "kernelspec": {
   "display_name": "ml",
   "language": "python",
   "name": "ml"
  },
  "language_info": {
   "codemirror_mode": {
    "name": "ipython",
    "version": 3
   },
   "file_extension": ".py",
   "mimetype": "text/x-python",
   "name": "python",
   "nbconvert_exporter": "python",
   "pygments_lexer": "ipython3",
   "version": "3.9.7"
  }
 },
 "nbformat": 4,
 "nbformat_minor": 5
}
