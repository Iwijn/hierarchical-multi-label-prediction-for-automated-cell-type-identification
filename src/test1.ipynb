{
 "cells": [
  {
   "cell_type": "code",
   "execution_count": 1,
   "id": "02f0f1d0",
   "metadata": {},
   "outputs": [
    {
     "data": {
      "text/plain": [
       "array([1, 0, 1, 0])"
      ]
     },
     "execution_count": 1,
     "metadata": {},
     "output_type": "execute_result"
    }
   ],
   "source": [
    "#https://scikit-learn.org/stable/modules/svm.html#svm\n",
    "from sklearn import svm\n",
    "X = [[0, 0], [1, 1]]\n",
    "y = [0, 1]\n",
    "clf = svm.SVC()\n",
    "clf.fit(X, y)\n",
    "clf.predict([[2., 2.],[-1., -1.],[2., -1.],[2,-1.01]])"
   ]
  },
  {
   "cell_type": "code",
   "execution_count": 2,
   "id": "11731f1d",
   "metadata": {},
   "outputs": [
    {
     "data": {
      "text/plain": [
       "4"
      ]
     },
     "execution_count": 2,
     "metadata": {},
     "output_type": "execute_result"
    }
   ],
   "source": [
    "# multiclass 1v1\n",
    "X = [[0], [1], [2], [3]]\n",
    "Y = [0, 1, 2, 3]\n",
    "clf = svm.SVC(decision_function_shape='ovo')\n",
    "clf.fit(X, Y)\n",
    "\n",
    "dec = clf.decision_function([[1]])\n",
    "dec.shape[1] # 4 classes: 4*3/2 = 6\n",
    "\n",
    "clf.decision_function_shape = \"ovr\"\n",
    "dec = clf.decision_function([[1]])\n",
    "dec.shape[1] # 4 classes"
   ]
  },
  {
   "cell_type": "code",
   "execution_count": 3,
   "id": "ef891364",
   "metadata": {},
   "outputs": [
    {
     "data": {
      "text/plain": [
       "array([3])"
      ]
     },
     "execution_count": 3,
     "metadata": {},
     "output_type": "execute_result"
    }
   ],
   "source": [
    "# multiclass 1v rest\n",
    "lin_clf = svm.LinearSVC()\n",
    "lin_clf.fit(X, Y)\n",
    "\n",
    "dec = lin_clf.decision_function([[1]])\n",
    "dec.shape[1]\n",
    "lin_clf.predict([[2.2]])"
   ]
  },
  {
   "cell_type": "code",
   "execution_count": null,
   "id": "43cdcaff",
   "metadata": {},
   "outputs": [],
   "source": [
    "# biopython dingen proberen\n",
    "# https://biopython.org/docs/1.74/api/Bio.SeqIO.FastaIO.html\n",
    "from Bio import SeqIO\n",
    "from Bio.SeqIO import FastaIO # type fastq, heel belangrijk ->\n",
    "iterator = SeqIO.parse('../data/500_PBMC_3p_LT_Chromium_X_fastqs/500_PBMC_3p_LT_Chromium_X_S4_L003_I1_001.fastq', 'fastq')\n",
    "print(type(iterator))\n",
    "c = 0\n",
    "for record in iterator:\n",
    "    c+= 1\n",
    "    \n",
    "print(c)\n",
    "         "
   ]
  },
  {
   "cell_type": "code",
   "execution_count": null,
   "id": "05224c97",
   "metadata": {},
   "outputs": [],
   "source": [
    "print(\"test\")"
   ]
  },
  {
   "cell_type": "code",
   "execution_count": null,
   "id": "c57e756f",
   "metadata": {},
   "outputs": [],
   "source": []
  }
 ],
 "metadata": {
  "kernelspec": {
   "display_name": "Python 3 (ipykernel)",
   "language": "python",
   "name": "python3"
  },
  "language_info": {
   "codemirror_mode": {
    "name": "ipython",
    "version": 3
   },
   "file_extension": ".py",
   "mimetype": "text/x-python",
   "name": "python",
   "nbconvert_exporter": "python",
   "pygments_lexer": "ipython3",
   "version": "3.9.7"
  }
 },
 "nbformat": 4,
 "nbformat_minor": 5
}
