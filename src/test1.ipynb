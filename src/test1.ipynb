{
 "cells": [
  {
   "cell_type": "code",
   "execution_count": 21,
   "id": "02f0f1d0",
   "metadata": {},
   "outputs": [],
   "source": [
    "#https://scikit-learn.org/stable/modules/svm.html#svm\n",
    "from sklearn import svm\n",
    "X = [[0, 0], [1, 1]]\n",
    "y = [0, 1]\n",
    "clf = svm.SVC()\n",
    "clf.fit(X, y)\n",
    "clf.predict([[2., 2.],[-1., -1.],[2., -1.],[2,-1.01]])\n",
    "from pprint import pprint"
   ]
  },
  {
   "cell_type": "code",
   "execution_count": 22,
   "id": "11731f1d",
   "metadata": {},
   "outputs": [
    {
     "data": {
      "text/plain": [
       "4"
      ]
     },
     "execution_count": 22,
     "metadata": {},
     "output_type": "execute_result"
    }
   ],
   "source": [
    "# multiclass 1v1\n",
    "X = [[0], [1], [2], [3]]\n",
    "Y = [0, 1, 2, 3]\n",
    "clf = svm.SVC(decision_function_shape='ovo')\n",
    "clf.fit(X, Y)\n",
    "\n",
    "dec = clf.decision_function([[1]])\n",
    "dec.shape[1] # 4 classes: 4*3/2 = 6\n",
    "\n",
    "clf.decision_function_shape = \"ovr\"\n",
    "dec = clf.decision_function([[1]])\n",
    "dec.shape[1] # 4 classes"
   ]
  },
  {
   "cell_type": "code",
   "execution_count": 23,
   "id": "ef891364",
   "metadata": {},
   "outputs": [
    {
     "data": {
      "text/plain": [
       "array([3])"
      ]
     },
     "execution_count": 23,
     "metadata": {},
     "output_type": "execute_result"
    }
   ],
   "source": [
    "# multiclass 1v rest\n",
    "lin_clf = svm.LinearSVC()\n",
    "lin_clf.fit(X, Y)\n",
    "\n",
    "dec = lin_clf.decision_function([[1]])\n",
    "dec.shape[1]\n",
    "lin_clf.predict([[2.2]])"
   ]
  },
  {
   "cell_type": "code",
   "execution_count": 73,
   "id": "43cdcaff",
   "metadata": {},
   "outputs": [
    {
     "name": "stdout",
     "output_type": "stream",
     "text": [
      "array(['GAGACGCACG', 'GAGACGCACG', 'GAGACGCACG', 'GAGACGCACG',\n",
      "       'GAGACGCACG', 'GAGACGCACG', 'GAGACGCACG', 'GAGACGCACG',\n",
      "       'GAGACGCACG', 'GAGACGCACG'], dtype='<U32')\n",
      "20000\n"
     ]
    }
   ],
   "source": [
    "# biopython dingen proberen\n",
    "# https://biopython.org/docs/1.74/api/Bio.SeqIO.FastaIO.html\n",
    "from Bio import SeqIO\n",
    "from Bio.SeqIO import FastaIO # type fastq, heel belangrijk ->\n",
    "import numpy as np\n",
    "iterator_input = SeqIO.parse('../data/500_PBMC_3p_LT_Chromium_X_fastqs/500_PBMC_3p_LT_Chromium_X_S4_L003_I1_001.fastq', 'fastq')\n",
    "\n",
    "#convert iterator_input to np array of sequences\n",
    "def iterator_input_to_list_n(it, n = None):\n",
    "    l = np.array([])\n",
    "    if n is None or type(n) != int or n < 0: # convert the whole iterator_input \n",
    "        for e in iterator_input:\n",
    "            l = np.append(l, str(e.seq))\n",
    "        return l\n",
    "    else:                                    # convert only the first n elements \n",
    "        for i in range(n):\n",
    "            l = np.append(l, str(iterator_input.__next__().seq))\n",
    "        return l\n",
    "       \n",
    "sequences = iterator_input_to_list_n(iterator_input, 10)\n",
    "pprint(sequences)\n",
    "sequences = iterator_input_to_list_n(iterator_input, 20000)\n",
    "pprint(len(sequences))"
   ]
  },
  {
   "cell_type": "code",
   "execution_count": 60,
   "id": "05224c97",
   "metadata": {},
   "outputs": [
    {
     "name": "stdout",
     "output_type": "stream",
     "text": [
      "ID: A00519:986:HFFLJDSX2:3:1101:11143:1000\n",
      "Name: A00519:986:HFFLJDSX2:3:1101:11143:1000\n",
      "Description: A00519:986:HFFLJDSX2:3:1101:11143:1000 1:N:0:GAGACGCACG+ATGTTCATAG\n",
      "Number of features: 0\n",
      "Per letter annotation for: phred_quality\n",
      "Seq('GAGACGCACG')\n"
     ]
    }
   ],
   "source": [
    "print(iterator_input.__next__())"
   ]
  },
  {
   "cell_type": "code",
   "execution_count": 97,
   "id": "c57e756f",
   "metadata": {},
   "outputs": [
    {
     "name": "stdout",
     "output_type": "stream",
     "text": [
      "A00519:986:HFFLJDSX2:3:1336:7889:16094\t0\t#0\t10016\t1\t90M\t*\t0\t0\tCCCTAACCCTAACCCTAACCCTAACCCTAACCCTAACCCTAACCCTAACCCTAACCCTAACCCTAACCCTAACCCTAACACTAAACCTAA\tarray('B', [37, 37, 37, 37, 37, 37, 37, 37, 37, 37, 37, 37, 37, 37, 37, 37, 37, 37, 37, 37, 37, 37, 37, 37, 37, 37, 37, 37, 37, 37, 37, 37, 37, 37, 37, 37, 37, 37, 37, 37, 37, 37, 37, 37, 37, 25, 37, 37, 37, 37, 37, 37, 37, 37, 37, 37, 37, 37, 37, 37, 37, 37, 37, 25, 37, 37, 37, 37, 37, 37, 37, 37, 37, 11, 37, 37, 37, 25, 37, 11, 37, 37, 11, 37, 11, 25, 11, 11, 37, 37])\t[('NH', 3), ('HI', 1), ('AS', 84), ('nM', 2), ('RG', '500_PBMC_3p_LT_Chromium_X:0:1:HFFLJDSX2:3'), ('RE', 'I'), ('xf', 0), ('CR', 'GTGGAGAGTTAGGGTT'), ('CY', 'FFFFFFFFFFFFFFFF'), ('UR', 'AGGGTTAGGGTT'), ('UY', 'FFFFFFFFFFFF'), ('UB', 'AGGGTTAGGGTT')]\n"
     ]
    }
   ],
   "source": [
    "from Bio.bgzf import *\n",
    "import pysam\n",
    "\n",
    "samfile = pysam.AlignmentFile(\"../data/500_PBMC_3p_LT_Chromium_X_possorted_genome_bam.bam\", \"rb\")\n",
    "#for read in samfile.fetch():\n",
    "#    pass\n",
    "\n",
    "#pprint(iterator_input_to_list_n(samfile.fetch(), 10))\n",
    "print(samfile.fetch().__next__()) \n",
    "#for read in samfile.fetch('chr1', 100, 120):\n",
    "#    pprint(read)\n",
    "samfile.close()\n",
    "\n"
   ]
  },
  {
   "cell_type": "code",
   "execution_count": null,
   "id": "a4ed9a32-3e45-477e-8227-032ebbcb63cd",
   "metadata": {},
   "outputs": [],
   "source": [
    "# https://pysam.readthedocs.io/en/latest/api.html"
   ]
  },
  {
   "cell_type": "code",
   "execution_count": null,
   "id": "ef530f36-cf13-4221-83c9-3c1f302c3da5",
   "metadata": {},
   "outputs": [],
   "source": []
  }
 ],
 "metadata": {
  "kernelspec": {
   "display_name": "ml",
   "language": "python",
   "name": "ml"
  },
  "language_info": {
   "codemirror_mode": {
    "name": "ipython",
    "version": 3
   },
   "file_extension": ".py",
   "mimetype": "text/x-python",
   "name": "python",
   "nbconvert_exporter": "python",
   "pygments_lexer": "ipython3",
   "version": "3.9.7"
  }
 },
 "nbformat": 4,
 "nbformat_minor": 5
}
