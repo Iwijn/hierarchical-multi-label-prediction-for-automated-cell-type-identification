{
 "cells": [
  {
   "cell_type": "code",
   "execution_count": 1,
   "id": "02f0f1d0",
   "metadata": {},
   "outputs": [],
   "source": [
    "#https://scikit-learn.org/stable/modules/svm.html#svm\n",
    "from sklearn import svm\n",
    "X = [[0, 0], [1, 1]]\n",
    "y = [0, 1]\n",
    "clf = svm.SVC()\n",
    "clf.fit(X, y)\n",
    "clf.predict([[2., 2.],[-1., -1.],[2., -1.],[2,-1.01]])\n",
    "from pprint import pprint"
   ]
  },
  {
   "cell_type": "code",
   "execution_count": null,
   "id": "11731f1d",
   "metadata": {},
   "outputs": [
    {
     "data": {
      "text/plain": [
       "4"
      ]
     },
     "execution_count": 2,
     "metadata": {},
     "output_type": "execute_result"
    }
   ],
   "source": [
    "# multiclass 1v1\n",
    "X = [[0], [1], [2], [3]]\n",
    "Y = [0, 1, 2, 3]\n",
    "clf = svm.SVC(decision_function_shape='ovo')\n",
    "clf.fit(X, Y)\n",
    "\n",
    "dec = clf.decision_function([[1]])\n",
    "dec.shape[1] # 4 classes: 4*3/2 = 6\n",
    "\n",
    "clf.decision_function_shape = \"ovr\"\n",
    "dec = clf.decision_function([[1]])\n",
    "dec.shape[1] # 4 classes"
   ]
  },
  {
   "cell_type": "code",
   "execution_count": null,
   "id": "ef891364",
   "metadata": {},
   "outputs": [
    {
     "data": {
      "text/plain": [
       "array([3])"
      ]
     },
     "execution_count": 3,
     "metadata": {},
     "output_type": "execute_result"
    }
   ],
   "source": [
    "# multiclass 1v rest\n",
    "lin_clf = svm.LinearSVC()\n",
    "lin_clf.fit(X, Y)\n",
    "\n",
    "dec = lin_clf.decision_function([[1]])\n",
    "dec.shape[1]\n",
    "lin_clf.predict([[2.2]])"
   ]
  },
  {
   "cell_type": "code",
   "execution_count": null,
   "id": "43cdcaff",
   "metadata": {},
   "outputs": [
    {
     "name": "stdout",
     "output_type": "stream",
     "text": [
      "array(['GAGACGCACG', 'GAGACGCACG', 'GAGACGCACG', 'GAGACGCACG',\n",
      "       'GAGACGCACG', 'GAGACGCACG', 'GAGACGCACG', 'GAGACGCACG',\n",
      "       'GAGACGCACG', 'GAGACGCACG'], dtype='<U32')\n",
      "20000\n"
     ]
    }
   ],
   "source": [
    "# biopython dingen proberen\n",
    "# https://biopython.org/docs/1.74/api/Bio.SeqIO.FastaIO.html\n",
    "from Bio import SeqIO\n",
    "from Bio.SeqIO import FastaIO # type fastq, heel belangrijk ->\n",
    "import numpy as np\n",
    "iterator_input = SeqIO.parse('../data/500_PBMC_3p_LT_Chromium_X_fastqs/500_PBMC_3p_LT_Chromium_X_S4_L003_I1_001.fastq', 'fastq')\n",
    "\n",
    "#convert iterator_input to np array of sequences\n",
    "def iterator_input_to_list_n(it, n = None):\n",
    "    l = np.array([])\n",
    "    if n is None or type(n) != int or n < 0: # convert the whole iterator_input \n",
    "        for e in iterator_input:\n",
    "            l = np.append(l, str(e.seq))\n",
    "        return l\n",
    "    else:                                    # convert only the first n elements \n",
    "        for i in range(n):\n",
    "            l = np.append(l, str(iterator_input.__next__().seq))\n",
    "        return l\n",
    "       \n",
    "sequences = iterator_input_to_list_n(iterator_input, 10)\n",
    "pprint(sequences)\n",
    "sequences = iterator_input_to_list_n(iterator_input, 20000)\n",
    "pprint(len(sequences))"
   ]
  },
  {
   "cell_type": "code",
   "execution_count": null,
   "id": "05224c97",
   "metadata": {},
   "outputs": [
    {
     "name": "stdout",
     "output_type": "stream",
     "text": [
      "ID: A00519:986:HFFLJDSX2:3:1101:5448:20134\n",
      "Name: A00519:986:HFFLJDSX2:3:1101:5448:20134\n",
      "Description: A00519:986:HFFLJDSX2:3:1101:5448:20134 1:N:0:GAGACGCACG+ATGTTCATAG\n",
      "Number of features: 0\n",
      "Per letter annotation for: phred_quality\n",
      "Seq('GAGACGCACG')\n",
      "ID: A00519:986:HFFLJDSX2:3:1101:5791:20134\n",
      "Name: A00519:986:HFFLJDSX2:3:1101:5791:20134\n",
      "Description: A00519:986:HFFLJDSX2:3:1101:5791:20134 1:N:0:GAGACGCACG+ATGTTCATAG\n",
      "Number of features: 0\n",
      "Per letter annotation for: phred_quality\n",
      "Seq('GAGACGCACG')\n"
     ]
    }
   ],
   "source": [
    "print(iterator_input.__next__())\n",
    "print(iterator_input.__next__())"
   ]
  },
  {
   "cell_type": "code",
   "execution_count": 10,
   "id": "c57e756f",
   "metadata": {},
   "outputs": [
    {
     "name": "stdout",
     "output_type": "stream",
     "text": [
      "A00519:986:HFFLJDSX2:3:1336:7889:16094\t0\t#0\t10016\t1\t90M\t*\t0\t0\tCCCTAACCCTAACCCTAACCCTAACCCTAACCCTAACCCTAACCCTAACCCTAACCCTAACCCTAACCCTAACCCTAACACTAAACCTAA\tarray('B', [37, 37, 37, 37, 37, 37, 37, 37, 37, 37, 37, 37, 37, 37, 37, 37, 37, 37, 37, 37, 37, 37, 37, 37, 37, 37, 37, 37, 37, 37, 37, 37, 37, 37, 37, 37, 37, 37, 37, 37, 37, 37, 37, 37, 37, 25, 37, 37, 37, 37, 37, 37, 37, 37, 37, 37, 37, 37, 37, 37, 37, 37, 37, 25, 37, 37, 37, 37, 37, 37, 37, 37, 37, 11, 37, 37, 37, 25, 37, 11, 37, 37, 11, 37, 11, 25, 11, 11, 37, 37])\t[('NH', 3), ('HI', 1), ('AS', 84), ('nM', 2), ('RG', '500_PBMC_3p_LT_Chromium_X:0:1:HFFLJDSX2:3'), ('RE', 'I'), ('xf', 0), ('CR', 'GTGGAGAGTTAGGGTT'), ('CY', 'FFFFFFFFFFFFFFFF'), ('UR', 'AGGGTTAGGGTT'), ('UY', 'FFFFFFFFFFFF'), ('UB', 'AGGGTTAGGGTT')]\n",
      "A00519:986:HFFLJDSX2:3:2561:14669:16971\t16\t#0\t10018\t0\t90M\t*\t0\t0\tCTTATCTTTACCCTAACCCTAACCCTAACCCTAACCCTAACCCTAACCCTAACCCTAACCCTAACCCTAACCCTAACCCTAACCCTAACC\tarray('B', [37, 25, 11, 37, 11, 25, 11, 37, 11, 37, 37, 37, 37, 37, 25, 37, 37, 37, 37, 37, 37, 37, 37, 37, 37, 37, 37, 37, 37, 37, 37, 37, 11, 37, 37, 37, 37, 37, 37, 25, 37, 37, 37, 37, 37, 37, 37, 37, 37, 37, 37, 37, 37, 37, 37, 37, 37, 25, 37, 37, 37, 37, 37, 37, 25, 37, 37, 37, 37, 37, 37, 37, 37, 37, 37, 37, 37, 37, 37, 37, 37, 37, 37, 37, 37, 37, 37, 37, 37, 37])\t[('NH', 5), ('HI', 1), ('AS', 80), ('nM', 4), ('RG', '500_PBMC_3p_LT_Chromium_X:0:1:HFFLJDSX2:3'), ('RE', 'I'), ('xf', 0), ('CR', 'ACCCTAACCCTAACCC'), ('CY', 'FFFFFFFFFFFFFFFF'), ('UR', 'TAACCCTAACCC'), ('UY', 'FFFFFFFFFFFF'), ('UB', 'TAACCCTAACCC')]\n"
     ]
    }
   ],
   "source": [
    "from Bio.bgzf import *\n",
    "import pysam\n",
    "\n",
    "samfile = pysam.AlignmentFile(\"../data/500_PBMC_3p_LT_Chromium_X_possorted_genome_bam.bam\", \"rb\")\n",
    "#for read in samfile.fetch():\n",
    "#    pass\n",
    "\n",
    "#pprint(iterator_input_to_list_n(samfile.fetch(), 10))\n",
    "it = samfile.fetch()\n",
    "print(it.__next__())\n",
    "print(it.__next__())\n",
    "#for read in samfile.fetch('chr1', 100, 120):\n",
    "#    pprint(read)\n",
    "samfile.close()\n",
    "\n"
   ]
  },
  {
   "cell_type": "code",
   "execution_count": 9,
   "id": "a4ed9a32-3e45-477e-8227-032ebbcb63cd",
   "metadata": {},
   "outputs": [],
   "source": [
    "# https://pysam.readthedocs.io/en/latest/api.html"
   ]
  },
  {
   "cell_type": "code",
   "execution_count": null,
   "id": "be87606a-7a5e-4821-8cca-52b227acde56",
   "metadata": {},
   "outputs": [],
   "source": []
  },
  {
   "cell_type": "code",
   "execution_count": 31,
   "id": "ef530f36-cf13-4221-83c9-3c1f302c3da5",
   "metadata": {},
   "outputs": [
    {
     "name": "stdout",
     "output_type": "stream",
     "text": [
      "<HDF5 group \"/barcode_info\" (2 members)>\n",
      "barcode_idx\n",
      "<HDF5 dataset \"barcode_idx\": shape (7736202,), type \"<u8\">\n",
      "barcode_info\n",
      "<HDF5 group \"/barcode_info\" (2 members)>\n",
      "barcodes\n",
      "<HDF5 dataset \"barcodes\": shape (13555,), type \"|S44\">\n",
      "count\n",
      "<HDF5 dataset \"count\": shape (7736202,), type \"<u4\">\n",
      "feature_idx\n",
      "<HDF5 dataset \"feature_idx\": shape (7736202,), type \"<u4\">\n",
      "features\n",
      "<HDF5 group \"/features\" (5 members)>\n",
      "gem_group\n",
      "<HDF5 dataset \"gem_group\": shape (7736202,), type \"<u2\">\n",
      "library_idx\n",
      "<HDF5 dataset \"library_idx\": shape (7736202,), type \"<u2\">\n",
      "library_info\n",
      "<HDF5 dataset \"library_info\": shape (1,), type \"|S4096\">\n",
      "metrics_json\n",
      "<HDF5 dataset \"metrics_json\": shape (), type \"|O\">\n",
      "umi\n",
      "<HDF5 dataset \"umi\": shape (7736202,), type \"<u4\">\n",
      "umi_type\n",
      "<HDF5 dataset \"umi_type\": shape (7736202,), type \"<u4\">\n"
     ]
    }
   ],
   "source": [
    "# https://stackoverflow.com/questions/46851600/open-h5-file-in-python\n",
    "\n",
    "import h5py\n",
    "\n",
    "filename = \"../data/500_PBMC_3p_LT_Chromium_X_molecule_info.h5\"\n",
    "\n",
    "h5 = h5py.File(filename,'r')\n",
    "\n",
    "print(h5['barcode_info'])\n",
    "\n",
    "# for i in h5['barcodes']:\n",
    "#     print(i)\n",
    "\n",
    "# for i in h5['barcode_idx']:\n",
    "#     print(i)\n",
    "\n",
    "for i in h5:\n",
    "    print(i)\n",
    "    print(h5[i])\n",
    "\n",
    "h5.close()"
   ]
  },
  {
   "cell_type": "markdown",
   "id": "df1d46e3-54c6-43c8-9e28-5d1eda4e9c3e",
   "metadata": {},
   "source": [
    "# Mail\n",
    "\n",
    "Geachte professor\n",
    "\n",
    "Wij hebben enkele vragen in verband met data voor ons project over Hierarchical, multi-label prediction for automated cell type identification.\n",
    "\n",
    "Wij hebben de data van de eerste bron die u vermeldde gedownload. Dat zijn csv's, maar we hebben niet echt een idee hoe we ze kunnen interpreteren.\n",
    "We hebben ook single cel expression data gedownload van 10XGenomics. De data staat in .fastq en .bam bestanden, maar ook bij die bestanden weten we niet wat al die verschillende dingen betekenen.\n",
    "\n",
    "We vinden het dus moeilijk om te begrijpen wat de barcodes precies zijn en hoe we dus aan de slag kunnen met die data.\n",
    "\n",
    "Kan u ons helpen? Misschien via een Teams meeting?\n",
    "\n",
    "\n",
    "Met vriendelijke groeten\n",
    "\n",
    "Iwijn Voeten en Klaas Goethals\n"
   ]
  },
  {
   "cell_type": "code",
   "execution_count": null,
   "id": "38d6a850-72e5-40e9-a070-d81e9bfa3e47",
   "metadata": {},
   "outputs": [],
   "source": []
  }
 ],
 "metadata": {
  "kernelspec": {
   "display_name": "ml",
   "language": "python",
   "name": "ml"
  },
  "language_info": {
   "codemirror_mode": {
    "name": "ipython",
    "version": 3
   },
   "file_extension": ".py",
   "mimetype": "text/x-python",
   "name": "python",
   "nbconvert_exporter": "python",
   "pygments_lexer": "ipython3",
   "version": "3.9.7"
  }
 },
 "nbformat": 4,
 "nbformat_minor": 5
}
