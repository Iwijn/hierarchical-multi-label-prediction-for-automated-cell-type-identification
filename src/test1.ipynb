{
 "cells": [
  {
   "cell_type": "code",
   "execution_count": null,
   "id": "02f0f1d0",
   "metadata": {},
   "outputs": [],
   "source": [
    "#https://scikit-learn.org/stable/modules/svm.html#svm\n",
    "from sklearn import svm\n",
    "X = [[0, 0], [1, 1]]\n",
    "y = [0, 1]\n",
    "clf = svm.SVC()\n",
    "clf.fit(X, y)\n",
    "clf.predict([[2., 2.],[-1., -1.],[2., -1.],[2,-1.01]])"
   ]
  },
  {
   "cell_type": "code",
   "execution_count": null,
   "id": "11731f1d",
   "metadata": {},
   "outputs": [],
   "source": [
    "# multiclass 1v1\n",
    "X = [[0], [1], [2], [3]]\n",
    "Y = [0, 1, 2, 3]\n",
    "clf = svm.SVC(decision_function_shape='ovo')\n",
    "clf.fit(X, Y)\n",
    "\n",
    "dec = clf.decision_function([[1]])\n",
    "dec.shape[1] # 4 classes: 4*3/2 = 6\n",
    "\n",
    "clf.decision_function_shape = \"ovr\"\n",
    "dec = clf.decision_function([[1]])\n",
    "dec.shape[1] # 4 classes"
   ]
  },
  {
   "cell_type": "code",
   "execution_count": null,
   "id": "ef891364",
   "metadata": {},
   "outputs": [],
   "source": [
    "# multiclass 1v rest\n",
    "lin_clf = svm.LinearSVC()\n",
    "lin_clf.fit(X, Y)\n",
    "\n",
    "dec = lin_clf.decision_function([[1]])\n",
    "dec.shape[1]\n",
    "lin_clf.predict([[2.2]])"
   ]
  },
  {
   "cell_type": "code",
   "execution_count": 8,
   "id": "43cdcaff",
   "metadata": {},
   "outputs": [],
   "source": [
    "# biopython dingen proberen\n",
    "# https://biopython.org/docs/1.74/api/Bio.SeqIO.FastaIO.html\n",
    "from Bio import SeqIO\n",
    "from Bio.SeqIO import FastaIO # type fastq, heel belangrijk ->\n",
    "iterator = SeqIO.parse('../data/500_PBMC_3p_LT_Chromium_X_fastqs/500_PBMC_3p_LT_Chromium_X_S4_L003_I1_001.fastq', 'fastq')\n"
   ]
  },
  {
   "cell_type": "code",
   "execution_count": null,
   "id": "05224c97",
   "metadata": {},
   "outputs": [],
   "source": [
    "print(\"test\")"
   ]
  },
  {
   "cell_type": "code",
   "execution_count": 9,
   "id": "c57e756f",
   "metadata": {},
   "outputs": [
    {
     "name": "stdout",
     "output_type": "stream",
     "text": [
      "yay\n"
     ]
    }
   ],
   "source": [
    "print(list(iterator))!"
   ]
  },
  {
   "cell_type": "code",
   "execution_count": null,
   "id": "a4ed9a32-3e45-477e-8227-032ebbcb63cd",
   "metadata": {},
   "outputs": [
    {
     "name": "stdout",
     "output_type": "stream",
     "text": [
      "\u001b[?25lresolving dependencies...\n",
      "looking for conflicting packages...\n",
      "\n",
      "\u001b[0;1mPackages (1)\u001b[0m tree\u001b[38;5;243m-1.8.0-2\u001b[0m\n",
      "\n",
      "\u001b[0;1mTotal Download Size: \u001b[0m  0.03 MiB\n",
      "\u001b[0;1mTotal Installed Size:\u001b[0m  0.09 MiB\n",
      "\n",
      "\u001b[1;34m::\u001b[0;1m Proceed with installation? [Y/n] \u001b[0m\u001b[?25h"
     ]
    }
   ],
   "source": [
    "!yay -S tree"
   ]
  },
  {
   "cell_type": "code",
   "execution_count": null,
   "id": "ef530f36-cf13-4221-83c9-3c1f302c3da5",
   "metadata": {},
   "outputs": [],
   "source": []
  }
 ],
 "metadata": {
  "kernelspec": {
   "display_name": "ml",
   "language": "python",
   "name": "ml"
  },
  "language_info": {
   "codemirror_mode": {
    "name": "ipython",
    "version": 3
   },
   "file_extension": ".py",
   "mimetype": "text/x-python",
   "name": "python",
   "nbconvert_exporter": "python",
   "pygments_lexer": "ipython3",
   "version": "3.9.7"
  }
 },
 "nbformat": 4,
 "nbformat_minor": 5
}
