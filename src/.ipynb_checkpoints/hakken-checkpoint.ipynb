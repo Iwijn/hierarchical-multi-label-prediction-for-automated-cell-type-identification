{
 "cells": [
  {
   "cell_type": "code",
   "execution_count": null,
   "id": "9b68e916-3b2d-4394-961f-8eec60a44978",
   "metadata": {},
   "outputs": [],
   "source": []
  },
  {
   "cell_type": "code",
   "execution_count": 2,
   "id": "b309c70e-3d9e-49e1-9ab6-afa42d7da1eb",
   "metadata": {},
   "outputs": [
    {
     "name": "stdout",
     "output_type": "stream",
     "text": [
      "Opening in existing browser session.\n"
     ]
    }
   ],
   "source": [
    "!google-chrome-stable \"https://www.youtube.com/watch?v=dQw4w9WgXcQ\"\n",
    "# :0"
   ]
  },
  {
   "cell_type": "code",
   "execution_count": null,
   "id": "f731c309-f20d-4030-9be6-22e9ff3d66ef",
   "metadata": {},
   "outputs": [],
   "source": []
  }
 ],
 "metadata": {
  "kernelspec": {
   "display_name": "ml",
   "language": "python",
   "name": "ml"
  },
  "language_info": {
   "codemirror_mode": {
    "name": "ipython",
    "version": 3
   },
   "file_extension": ".py",
   "mimetype": "text/x-python",
   "name": "python",
   "nbconvert_exporter": "python",
   "pygments_lexer": "ipython3",
   "version": "3.9.7"
  }
 },
 "nbformat": 4,
 "nbformat_minor": 5
}
