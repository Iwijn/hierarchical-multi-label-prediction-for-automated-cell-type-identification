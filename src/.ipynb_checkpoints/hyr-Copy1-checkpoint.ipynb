{
 "cells": [
  {
   "cell_type": "code",
   "execution_count": 18,
   "id": "d6797478-9721-4416-97af-f512e368c752",
   "metadata": {},
   "outputs": [],
   "source": [
    "import numpy as np\n",
    "import pandas as pd\n",
    "import matplotlib.pyplot as plt\n",
    "import random\n",
    "from sklearn import datasets, neighbors, metrics, tree, svm, preprocessing, model_selection, ensemble\n",
    "from sklearn.model_selection import StratifiedKFold\n",
    "from pprint import pprint\n"
   ]
  },
  {
   "cell_type": "code",
   "execution_count": 2,
   "id": "51c59c4a-7324-4cbf-b9a2-921ba0acb2e1",
   "metadata": {},
   "outputs": [],
   "source": [
    "#%%time\n",
    "#\n",
    "## load labels\n",
    "#labels = pd.read_csv('../data/Lauren/Labels.csv')\n",
    "##labels.head() # to display the first 5 lines of loaded data\n",
    "#\n",
    "## load data\n",
    "#df = pd.read_csv('../data/Lauren/500_PBMC_3p_LT_Chromium_X_metrics_summary.csv') # takes about 5min\n"
   ]
  },
  {
   "cell_type": "code",
   "execution_count": 3,
   "id": "8096e53a-5b74-4a69-8873-4e072d0ffe66",
   "metadata": {},
   "outputs": [],
   "source": [
    "#%%time\n",
    "## filter out certain data\n",
    "def gereral_data_filter(df, labels, filter_on, amount_higher_than):\n",
    "    ## Filter info\n",
    "    classes_count = labels.groupby(filter_on).count()\n",
    "    classes_to_keep = list(classes_count[classes_count[classes_count.columns[-1]] >= amount_higher_than].index)\n",
    "    keep_indices = labels[filter_on].isin(classes_to_keep)\n",
    "    \n",
    "    ## delete entries part of class that's too small, remove names column\n",
    "    return (df[keep_indices].drop(columns=[\"Unnamed: 0\"]), labels[keep_indices])\n",
    "\n",
    "#df, labels = gereral_data_filter(df, labels, \"cluster\", 10)"
   ]
  },
  {
   "cell_type": "code",
   "execution_count": 4,
   "id": "e1f347f4-9fcc-4ee8-ba20-eec3d46be640",
   "metadata": {},
   "outputs": [
    {
     "name": "stdout",
     "output_type": "stream",
     "text": [
      "CPU times: user 0 ns, sys: 1.71 s, total: 1.71 s\n",
      "Wall time: 1.7 s\n"
     ]
    }
   ],
   "source": [
    "%%time\n",
    "df = pd.read_pickle(\"../data/Lauren/df.pkl\")\n",
    "labels = pd.read_pickle(\"../data/Lauren/labels.pkl\")"
   ]
  },
  {
   "cell_type": "code",
   "execution_count": 5,
   "id": "c663c41e-504a-4c07-9e38-038ce803cc8d",
   "metadata": {},
   "outputs": [],
   "source": [
    "def train_test_linear_nn(df, labels, class_column_name): # todo: give linear classifier as argument\n",
    "    # only keep the needed column\n",
    "    drop_columns = filter(lambda col: col != class_column_name , labels.columns)\n",
    "    labels = labels.drop(columns = drop_columns).values.ravel()\n",
    "    \n",
    "    # use this to split dataset in 2 parts, test and train\n",
    "    skf = StratifiedKFold(n_splits=2, random_state=1337, shuffle=True)\n",
    "    \n",
    "    for train_index, test_index in skf.split(df, labels):\n",
    "        #test_index, train_index = train_index, test_index \n",
    "        # get train and test set\n",
    "        X_train, X_test = df.take(train_index), df.take(test_index)\n",
    "        y_train, y_test = labels[train_index], labels[test_index]\n",
    "        \n",
    "        # 1vRest training\n",
    "        print(\"TRAIN:\", train_index, \"TEST:\", test_index)\n",
    "        print(\"Start fitting\")\n",
    "        lin_clf = svm.LinearSVC()\n",
    "        lin_clf.fit(X_train, y_train)\n",
    "        \n",
    "        # predicting\n",
    "        print(\"Start predicting\")\n",
    "        y_pred_lin_clf = lin_clf.predict(X_test)\n",
    "        \n",
    "        # metrics\n",
    "        #print(\"Calculating metrics\")\n",
    "        \n",
    "        print(f\"F1 macro-average: {metrics.f1_score(y_test, y_pred_lin_clf, average='macro')}\")\n",
    "        print(f\"F1 weighted-average: {metrics.f1_score(y_test, y_pred_lin_clf, average='weighted')}\")\n",
    "        f1 = metrics.f1_score(y_test, y_pred_lin_clf, average=None)\n",
    "        print(f\"accuracy: {metrics.accuracy_score(y_test, y_pred_lin_clf)}\")\n",
    "        \n",
    "        unique_labels_df = pd.DataFrame(pd.Series(y_test).unique())\n",
    "        f1_df = pd.DataFrame(f1)\n",
    "        print(pd.concat([unique_labels_df, f1_df], axis=1, keys=['dcluster', 'f1_per_dcluster']))\n",
    "        \n",
    "        # just do 1 iteration\n",
    "        return (lin_clf, f1)\n",
    "    \n",
    "    \n",
    "#drop_columns = filter(lambda col: col != \"Class\" , labels.columns)\n",
    "#list(drop_columns)"
   ]
  },
  {
   "cell_type": "code",
   "execution_count": 6,
   "id": "ec41e1e5-b7f1-4412-add6-167475fa18ee",
   "metadata": {},
   "outputs": [],
   "source": [
    "def train_linear_nn(df, labels, class_column_name): # todo: give linear classifier as argument\n",
    "    # only keep the needed column\n",
    "    drop_columns = filter(lambda col: col != class_column_name , labels.columns)\n",
    "    labels = labels.drop(columns = drop_columns).values.ravel()\n",
    "     \n",
    "    X_train, y_train = df, labels\n",
    "        \n",
    "    # 1vRest training\n",
    "    print(\"Start training\")\n",
    "    lin_clf = svm.LinearSVC()\n",
    "    lin_clf.fit(X_train, y_train)\n",
    "    \n",
    "    return lin_clf\n",
    "    "
   ]
  },
  {
   "cell_type": "code",
   "execution_count": 5,
   "id": "6529f652-65c1-42ff-95e3-b10ddc200369",
   "metadata": {},
   "outputs": [
    {
     "name": "stdout",
     "output_type": "stream",
     "text": [
      "TRAIN: [    0     2     3 ... 12774 12776 12780] TEST: [    1     4     5 ... 12777 12778 12779]\n",
      "Start fitting\n",
      "Start predicting\n",
      "F1 macro-average: 1.0\n",
      "F1 weighted-average: 1.0\n",
      "accuracy: 1.0\n",
      "        dcluster f1_per_dcluster\n",
      "               0               0\n",
      "0      GABAergic             1.0\n",
      "1  Glutamatergic             1.0\n",
      "2   Non-Neuronal             1.0\n",
      "CPU times: user 19.5 s, sys: 22.8 s, total: 42.3 s\n",
      "Wall time: 49.4 s\n"
     ]
    },
    {
     "data": {
      "text/plain": [
       "array([1., 1., 1.])"
      ]
     },
     "execution_count": 5,
     "metadata": {},
     "output_type": "execute_result"
    }
   ],
   "source": [
    "%%time\n",
    "# as a test, train the first neural network to divide the data into Classes\n",
    "(clf, all_f1) = train_linear_nn(df, labels, \"Class\")\n",
    "all_f1"
   ]
  },
  {
   "cell_type": "code",
   "execution_count": 7,
   "id": "baad51bf-e405-4390-897d-4da0e9ba6ed6",
   "metadata": {},
   "outputs": [],
   "source": [
    "# make tree structure\n",
    "class Node:\n",
    "    def __init__(self, parent, clf, children):\n",
    "        self.parent = parent\n",
    "        self.clf = clf\n",
    "        self.children = children # dict die resultaat van clf linkt aan een nieuwe node (met clf)"
   ]
  },
  {
   "cell_type": "code",
   "execution_count": 8,
   "id": "d1d49ebd-7577-4bec-a649-13c6f7f42a42",
   "metadata": {},
   "outputs": [],
   "source": [
    "def filter_data_on_class_name(df, labels, class_name, class_column_name):\n",
    "    keep_indices = labels[class_column_name] == class_name\n",
    "    return (df[keep_indices], labels[keep_indices])\n",
    "\n",
    "def train_hyr_nn(df, labels, node, parent_class=None, parent_class_column=None):\n",
    "    # train neural net to classify input in the child classes\n",
    "    \n",
    "    # get the child_class_column\n",
    "    if (parent_class is None or parent_class_column is None):\n",
    "        child_class_column = labels.columns[0]\n",
    "    else:\n",
    "        # remove all entries that do not belong to the parent_class\n",
    "        df, labels = filter_data_on_class_name(df, labels, parent_class, parent_class_column)\n",
    "        \n",
    "        # get child_class_column\n",
    "        child_class_column_index = list(labels.columns).index(parent_class_column) + 1\n",
    "        if child_class_column_index >= len(labels.columns):\n",
    "            # we are at the root of the hyr tree, there are no further child classes\n",
    "            return None\n",
    "        child_class_column = labels.columns[child_class_column_index]\n",
    "    \n",
    "    # neural net that further classifies entries\n",
    "    # make new node belonging to the clf that we train here\n",
    "    # node = Node(parent_node, \n",
    "    #             train_linear_nn(df, labels, child_class_column), \n",
    "    #             dict())\n",
    "    unique_labels = pd.Series(labels[child_class_column]).unique()\n",
    "    if len(unique_labels) == 1:\n",
    "        node.clf = None\n",
    "        return\n",
    "    \n",
    "    node.clf = train_linear_nn(df, labels, child_class_column)\n",
    "    \n",
    "    # recursive step\n",
    "    for child_class in unique_labels: # todo: parallelize\n",
    "        child_node = Node(node, None, dict())\n",
    "        train_hyr_nn(df, labels, child_node, child_class, child_class_column)\n",
    "        if child_node.clf is not None:\n",
    "            node.children[child_class] = child_node\n",
    "        else:\n",
    "            node.children[child_class] = None\n",
    "            \n",
    "    \n",
    "    \n",
    "    \n",
    "    \n",
    "    \n",
    "#filter_child_class(df, labels, \"Vip\", \"Subclass\")[1].shape\n",
    "# root = Node(None, None, dict())\n",
    "# train_hyr_nn(df, labels, root)\n",
    "# root\n",
    "#print(\"---\")\n",
    "#train_hyr_nn(df, labels, Node(None, None, dict()), \"GABAergic\", \"Class\")\n",
    "#print(\"---\")\n",
    "#train_hyr_nn(df, labels, Node(None, None, dict()), \"Lamp5\", \"Subclass\")\n",
    "#print(\"---\")\n",
    "#train_hyr_nn(df, labels, Node(None, None, dict()), \"Lamp5 Lsp1\", \"cluster\") # returns without result"
   ]
  },
  {
   "cell_type": "code",
   "execution_count": 9,
   "id": "9bb861b3-613e-43f4-90bc-c1de08c91968",
   "metadata": {},
   "outputs": [
    {
     "name": "stdout",
     "output_type": "stream",
     "text": [
      "Start training\n",
      "Start training\n",
      "Start training\n",
      "Start training\n",
      "Start training\n"
     ]
    },
    {
     "name": "stderr",
     "output_type": "stream",
     "text": [
      "/home/iwijn/ml/machine-learning-project/venv/lib/python3.9/site-packages/sklearn/svm/_base.py:1199: ConvergenceWarning: Liblinear failed to converge, increase the number of iterations.\n",
      "  warnings.warn(\n"
     ]
    },
    {
     "name": "stdout",
     "output_type": "stream",
     "text": [
      "Start training\n",
      "Start training\n",
      "Start training\n",
      "Start training\n",
      "Start training\n",
      "Start training\n",
      "Start training\n",
      "Start training\n",
      "Start training\n",
      "Start training\n",
      "Start training\n",
      "CPU times: user 1min 19s, sys: 3.17 s, total: 1min 22s\n",
      "Wall time: 1min 22s\n"
     ]
    },
    {
     "data": {
      "text/plain": [
       "<__main__.Node at 0x7f481c5a6dc0>"
      ]
     },
     "execution_count": 9,
     "metadata": {},
     "output_type": "execute_result"
    }
   ],
   "source": [
    "%%time\n",
    "# get part of data where all cluster types are represented\n",
    "\n",
    "drop_columns = filter(lambda col: col != \"cluster\" , labels.columns)\n",
    "dclusters = labels.drop(columns = drop_columns).values.ravel()\n",
    "\n",
    "# only use part (1/5) of data\n",
    "skf = StratifiedKFold(n_splits=5, random_state=1337, shuffle=True)\n",
    "for train_index, test_index in skf.split(df, dclusters):\n",
    "    root = Node(None, None, dict())\n",
    "    train_hyr_nn(df.take(test_index), labels.take(test_index), root)\n",
    "    break\n",
    "\n",
    "root"
   ]
  },
  {
   "cell_type": "code",
   "execution_count": 20,
   "id": "6bad6929-d3fe-4384-8a5b-855efcbe4b34",
   "metadata": {},
   "outputs": [
    {
     "name": "stdout",
     "output_type": "stream",
     "text": [
      "{'GABAergic': <__main__.Node object at 0x7f481c59e880>,\n",
      " 'Glutamatergic': <__main__.Node object at 0x7f481c59e580>,\n",
      " 'Non-Neuronal': None}\n",
      "{'Lamp5': <__main__.Node object at 0x7f46afce28b0>,\n",
      " 'Pvalb': <__main__.Node object at 0x7f46afce2910>,\n",
      " 'Serpinf1': <__main__.Node object at 0x7f46afce22b0>,\n",
      " 'Sncg': <__main__.Node object at 0x7f46afce2640>,\n",
      " 'Sst': <__main__.Node object at 0x7f46afce2ee0>,\n",
      " 'Vip': <__main__.Node object at 0x7f47b573dee0>}\n",
      "{'Lamp5 Fam19a1 Pax6': None,\n",
      " 'Lamp5 Fam19a1 Tmem182': None,\n",
      " 'Lamp5 Krt73': None,\n",
      " 'Lamp5 Lhx6': None,\n",
      " 'Lamp5 Lsp1': None,\n",
      " 'Lamp5 Ntn1 Npy2r': None,\n",
      " 'Lamp5 Plch2 Dock5': None}\n"
     ]
    }
   ],
   "source": [
    "pprint(root.children)\n",
    "pprint(root.children[\"GABAergic\"].children)\n",
    "pprint(root.children[\"GABAergic\"].children[\"Lamp5\"].children)"
   ]
  },
  {
   "cell_type": "code",
   "execution_count": null,
   "id": "0619a9e4-705b-42ec-ad8d-e85bc8c83a88",
   "metadata": {},
   "outputs": [],
   "source": []
  },
  {
   "cell_type": "code",
   "execution_count": null,
   "id": "37d9c3f4-40bd-4b77-8494-1045bfc2f904",
   "metadata": {},
   "outputs": [],
   "source": []
  },
  {
   "cell_type": "code",
   "execution_count": null,
   "id": "4512c81f-051d-4077-a58d-2f1a7d5b106e",
   "metadata": {},
   "outputs": [],
   "source": []
  }
 ],
 "metadata": {
  "kernelspec": {
   "display_name": "ml",
   "language": "python",
   "name": "ml"
  },
  "language_info": {
   "codemirror_mode": {
    "name": "ipython",
    "version": 3
   },
   "file_extension": ".py",
   "mimetype": "text/x-python",
   "name": "python",
   "nbconvert_exporter": "python",
   "pygments_lexer": "ipython3",
   "version": "3.9.7"
  }
 },
 "nbformat": 4,
 "nbformat_minor": 5
}
