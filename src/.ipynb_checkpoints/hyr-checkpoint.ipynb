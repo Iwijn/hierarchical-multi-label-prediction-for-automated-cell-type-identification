{
 "cells": [
  {
   "cell_type": "code",
   "execution_count": 1,
   "id": "d6797478-9721-4416-97af-f512e368c752",
   "metadata": {},
   "outputs": [],
   "source": [
    "import numpy as np\n",
    "import pandas as pd\n",
    "import matplotlib.pyplot as plt\n",
    "import random\n",
    "from sklearn import datasets, neighbors, metrics, tree, svm, preprocessing, model_selection, ensemble\n",
    "from sklearn.model_selection import StratifiedKFold\n",
    "from pprint import pprint\n"
   ]
  },
  {
   "cell_type": "code",
   "execution_count": 2,
   "id": "51c59c4a-7324-4cbf-b9a2-921ba0acb2e1",
   "metadata": {},
   "outputs": [],
   "source": [
    "#%%time\n",
    "#\n",
    "## load labels\n",
    "#labels = pd.read_csv('../data/Lauren/Labels.csv')\n",
    "##labels.head() # to display the first 5 lines of loaded data\n",
    "#\n",
    "## load data\n",
    "#df = pd.read_csv('../data/Lauren/500_PBMC_3p_LT_Chromium_X_metrics_summary.csv') # takes about 5min\n"
   ]
  },
  {
   "cell_type": "code",
   "execution_count": 3,
   "id": "8096e53a-5b74-4a69-8873-4e072d0ffe66",
   "metadata": {},
   "outputs": [],
   "source": [
    "#%%time\n",
    "## filter out certain data\n",
    "def gereral_data_filter(df, labels, filter_on, amount_higher_than):\n",
    "    ## Filter info\n",
    "    classes_count = labels.groupby(filter_on).count()\n",
    "    classes_to_keep = list(classes_count[classes_count[classes_count.columns[-1]] >= amount_higher_than].index)\n",
    "    keep_indices = labels[filter_on].isin(classes_to_keep)\n",
    "    \n",
    "    ## delete entries part of class that's too small, remove names column\n",
    "    return (df[keep_indices].drop(columns=[\"Unnamed: 0\"]), labels[keep_indices])\n",
    "\n",
    "#df, labels = gereral_data_filter(df, labels, \"cluster\", 10)"
   ]
  },
  {
   "cell_type": "code",
   "execution_count": 55,
   "id": "e1f347f4-9fcc-4ee8-ba20-eec3d46be640",
   "metadata": {},
   "outputs": [
    {
     "name": "stdout",
     "output_type": "stream",
     "text": [
      "CPU times: user 0 ns, sys: 7.77 s, total: 7.77 s\n",
      "Wall time: 7.79 s\n"
     ]
    }
   ],
   "source": [
    "%%time\n",
    "df = pd.read_pickle(\"../data/Lauren/df.pkl\")\n",
    "labels = pd.read_pickle(\"../data/Lauren/labels.pkl\")"
   ]
  },
  {
   "cell_type": "code",
   "execution_count": null,
   "id": "46edd506-b284-4ba6-bfdd-a3ed1fe8ef80",
   "metadata": {},
   "outputs": [],
   "source": []
  },
  {
   "cell_type": "code",
   "execution_count": 5,
   "id": "c663c41e-504a-4c07-9e38-038ce803cc8d",
   "metadata": {},
   "outputs": [],
   "source": [
    "def train_test_linear_nn(df, labels, class_column_name): # todo: give linear classifier as argument\n",
    "    # only keep the needed column\n",
    "    drop_columns = filter(lambda col: col != class_column_name , labels.columns)\n",
    "    labels = labels.drop(columns = drop_columns).values.ravel()\n",
    "    \n",
    "    # use this to split dataset in 2 parts, test and train\n",
    "    skf = StratifiedKFold(n_splits=2, random_state=1337, shuffle=True)\n",
    "    \n",
    "    for train_index, test_index in skf.split(df, labels):\n",
    "        #test_index, train_index = train_index, test_index \n",
    "        # get train and test set\n",
    "        X_train, X_test = df.take(train_index), df.take(test_index)\n",
    "        y_train, y_test = labels[train_index], labels[test_index]\n",
    "        \n",
    "        # 1vRest training\n",
    "        print(\"TRAIN:\", train_index, \"TEST:\", test_index)\n",
    "        print(\"Start fitting\")\n",
    "        lin_clf = svm.LinearSVC()\n",
    "        lin_clf.fit(X_train, y_train)\n",
    "        \n",
    "        # predicting\n",
    "        print(\"Start predicting\")\n",
    "        y_pred_lin_clf = lin_clf.predict(X_test)\n",
    "        \n",
    "        # metrics\n",
    "        #print(\"Calculating metrics\")\n",
    "        \n",
    "        print(f\"F1 macro-average: {metrics.f1_score(y_test, y_pred_lin_clf, average='macro')}\")\n",
    "        print(f\"F1 weighted-average: {metrics.f1_score(y_test, y_pred_lin_clf, average='weighted')}\")\n",
    "        f1 = metrics.f1_score(y_test, y_pred_lin_clf, average=None)\n",
    "        print(f\"accuracy: {metrics.accuracy_score(y_test, y_pred_lin_clf)}\")\n",
    "        \n",
    "        unique_labels_df = pd.DataFrame(pd.Series(y_test).unique())\n",
    "        f1_df = pd.DataFrame(f1)\n",
    "        print(pd.concat([unique_labels_df, f1_df], axis=1, keys=['dcluster', 'f1_per_dcluster']))\n",
    "        \n",
    "        # just do 1 iteration\n",
    "        return (lin_clf, f1)\n",
    "    \n",
    "    \n",
    "#drop_columns = filter(lambda col: col != \"Class\" , labels.columns)\n",
    "#list(drop_columns)"
   ]
  },
  {
   "cell_type": "code",
   "execution_count": 8,
   "id": "ec41e1e5-b7f1-4412-add6-167475fa18ee",
   "metadata": {},
   "outputs": [],
   "source": [
    "def train_linear_nn(df, labels, class_column_name): # todo: give linear classifier as argument\n",
    "    # only keep the needed column\n",
    "    drop_columns = filter(lambda col: col != class_column_name , labels.columns)\n",
    "    labels = labels.drop(columns = drop_columns).values.ravel()\n",
    "     \n",
    "    X_train, y_train = df, labels\n",
    "        \n",
    "    # 1vRest training\n",
    "    print(f\"Start training {class_column_name} entries with multiclass output: {pd.Series(y_train).unique()}\")\n",
    "    lin_clf = svm.LinearSVC()\n",
    "    lin_clf.fit(X_train, y_train)\n",
    "    \n",
    "    return lin_clf\n",
    "    "
   ]
  },
  {
   "cell_type": "code",
   "execution_count": 7,
   "id": "6529f652-65c1-42ff-95e3-b10ddc200369",
   "metadata": {},
   "outputs": [
    {
     "name": "stdout",
     "output_type": "stream",
     "text": [
      "TRAIN: [    0     2     3 ... 12774 12776 12780] TEST: [    1     4     5 ... 12777 12778 12779]\n",
      "Start fitting\n",
      "Start predicting\n",
      "F1 macro-average: 1.0\n",
      "F1 weighted-average: 1.0\n",
      "accuracy: 1.0\n",
      "        dcluster f1_per_dcluster\n",
      "               0               0\n",
      "0      GABAergic             1.0\n",
      "1  Glutamatergic             1.0\n",
      "2   Non-Neuronal             1.0\n",
      "CPU times: user 19.3 s, sys: 14.9 s, total: 34.2 s\n",
      "Wall time: 31.4 s\n"
     ]
    },
    {
     "data": {
      "text/plain": [
       "array([1., 1., 1.])"
      ]
     },
     "execution_count": 7,
     "metadata": {},
     "output_type": "execute_result"
    }
   ],
   "source": [
    "%%time\n",
    "# as a test, train the first neural network to divide the data into Classes\n",
    "(clf, all_f1) = train_test_linear_nn(df, labels, \"Class\")\n",
    "all_f1"
   ]
  },
  {
   "cell_type": "code",
   "execution_count": 90,
   "id": "baad51bf-e405-4390-897d-4da0e9ba6ed6",
   "metadata": {},
   "outputs": [],
   "source": [
    "# make tree structure\n",
    "class Node:\n",
    "    def __init__(self, parent, class_name):\n",
    "        self.parent = parent\n",
    "        self.class_name = class_name\n",
    "        \n",
    "        self.clf = None\n",
    "        self.children = dict() # dict die resultaat van clf linkt aan een nieuwe node (met clf)\n",
    "        \n",
    "    def __str__(self):\n",
    "        if self.parent is None:\n",
    "            return \"Root\"\n",
    "        return f\"(class_name: {self.class_name}, parent: {self.parent})\"\n",
    "    \n",
    "    def __repr__(self):\n",
    "        return self.__str__()"
   ]
  },
  {
   "cell_type": "code",
   "execution_count": 101,
   "id": "d1d49ebd-7577-4bec-a649-13c6f7f42a42",
   "metadata": {},
   "outputs": [],
   "source": [
    "def filter_data_on_class_name(df, labels, class_name, class_column_name):\n",
    "    keep_indices = labels[class_column_name] == class_name\n",
    "    return (df[keep_indices], labels[keep_indices])\n",
    "\n",
    "def train_hyr_nn(df, labels, node, parent_class=None, parent_class_column=None):\n",
    "    # train neural net to classify input in the child classes\n",
    "    \n",
    "    # get the child_class_column\n",
    "    if (parent_class is None or parent_class_column is None):\n",
    "        child_class_column = labels.columns[0]\n",
    "    else:\n",
    "        # make data smaller: remove all entries that do not belong to the parent_class\n",
    "        \n",
    "        df, labels = filter_data_on_class_name(df, labels, parent_class, parent_class_column)\n",
    "        \n",
    "        # get child_class_column\n",
    "        child_class_column_index = list(labels.columns).index(parent_class_column) + 1\n",
    "        if child_class_column_index >= len(labels.columns):\n",
    "            # we are at the root of the hyr tree, there are no further child classes\n",
    "            return None\n",
    "        child_class_column = labels.columns[child_class_column_index]\n",
    "    \n",
    "    \n",
    "    # neural net that further classifies entries\n",
    "    unique_labels = pd.Series(labels[child_class_column]).unique()\n",
    "    if len(unique_labels) == 1:\n",
    "        # the subclass is the same as the parent class\n",
    "        node.clf = None\n",
    "    else:\n",
    "        print()\n",
    "        print(f\"parent_class: {parent_class}\")\n",
    "        node.clf = train_linear_nn(df, labels, child_class_column)\n",
    "    \n",
    "    # recursive step\n",
    "    for child_class in unique_labels: # todo: parallelize\n",
    "        child_node = Node(node, child_class)\n",
    "        train_hyr_nn(df, labels, child_node, child_class, child_class_column)\n",
    "        node.children[child_class] = child_node\n",
    "        # if child_node.clf is not None:\n",
    "        #     node.children[child_class] = child_node\n",
    "        # else:\n",
    "        #     node.children[child_class] = None\n"
   ]
  },
  {
   "cell_type": "code",
   "execution_count": 102,
   "id": "9bb861b3-613e-43f4-90bc-c1de08c91968",
   "metadata": {},
   "outputs": [
    {
     "name": "stdout",
     "output_type": "stream",
     "text": [
      "\n",
      "parent_class: None\n",
      "Start training Class entries with multiclass output: ['GABAergic' 'Glutamatergic' 'Non-Neuronal']\n",
      "\n",
      "parent_class: GABAergic\n",
      "Start training Subclass entries with multiclass output: ['Lamp5' 'Sst' 'Vip' 'Sncg' 'Serpinf1' 'Pvalb']\n",
      "\n",
      "parent_class: Lamp5\n",
      "Start training cluster entries with multiclass output: ['Lamp5 Lsp1' 'Lamp5 Plch2 Dock5' 'Lamp5 Fam19a1 Tmem182' 'Lamp5 Krt73'\n",
      " 'Lamp5 Ntn1 Npy2r' 'Lamp5 Lhx6' 'Lamp5 Fam19a1 Pax6']\n",
      "\n",
      "parent_class: Sst\n",
      "Start training cluster entries with multiclass output: ['Sst Tac1 Tacr3' 'Sst Hpse Sema3c' 'Sst Mme Fam114a1' 'Sst Nr2f2 Necab1'\n",
      " 'Sst Myh8 Etv1 ' 'Sst Crh 4930553C11Rik ' 'Sst Tac2 Tacstd2'\n",
      " 'Sst Rxfp1 Prdm8' 'Sst Chodl' 'Sst Chrna2 Ptgdr' 'Sst Esm1'\n",
      " 'Sst Calb2 Pdlim5' 'Sst Myh8 Fibin' 'Sst Tac1 Htr1d' 'Sst Chrna2 Glra3'\n",
      " 'Sst Hpse Cbln4' 'Sst Calb2 Necab1' 'Sst Rxfp1 Eya1' 'Sst Tac2 Myh4'\n",
      " 'Sst Crhr2 Efemp1' 'Sst Nts']\n",
      "\n",
      "parent_class: Vip\n",
      "Start training cluster entries with multiclass output: ['Vip Igfbp6 Car10' 'Vip Crispld2 Kcne4' 'Vip Ptprt Pkp2' 'Vip Lect1 Oxtr'\n",
      " 'Vip Igfbp6 Pltp' 'Vip Pygm C1ql1' 'Vip Igfbp4 Mab21l1'\n",
      " 'Vip Lmo1 Fam159b' 'Vip Chat Htr1f' 'Vip Gpc3 Slc18a3'\n",
      " 'Vip Arhgap36 Hmcn1' 'Vip Rspo1 Itga4' 'Vip Crispld2 Htr2c'\n",
      " 'Vip Rspo4 Rxfp1 Chat' 'Vip Col15a1 Pde1a' 'Vip Lmo1 Myl1']\n",
      "\n",
      "parent_class: Sncg\n",
      "Start training cluster entries with multiclass output: ['Sncg Vip Itih5' 'Sncg Slc17a8' 'Sncg Vip Nptx2' 'Sncg Gpr50']\n",
      "\n",
      "parent_class: Serpinf1\n",
      "Start training cluster entries with multiclass output: ['Serpinf1 Aqp5 Vip' 'Serpinf1 Clrn1']\n",
      "\n",
      "parent_class: Pvalb\n",
      "Start training cluster entries with multiclass output: ['Pvalb Reln Tac1' 'Pvalb Tpbg' 'Pvalb Gpr149 Islr' 'Pvalb Akr1c18 Ntf3'\n",
      " 'Pvalb Gabrg1' 'Pvalb Vipr2' 'Pvalb Th Sst' 'Pvalb Sema3e Kank4'\n",
      " 'Pvalb Calb1 Sst' 'Pvalb Reln Itm2a']\n",
      "\n",
      "parent_class: Glutamatergic\n",
      "Start training Subclass entries with multiclass output: ['L6 CT' 'L6 IT' 'L2/3 IT' 'L5 PT' 'L4' 'L5 IT' 'NP' 'L6b']\n",
      "\n",
      "parent_class: L6 CT\n",
      "Start training cluster entries with multiclass output: ['L6 CT VISp Krt80 Sla' 'L6 CT VISp Ctxn3 Sla' 'L6 CT VISp Ctxn3 Brinp3'\n",
      " 'L6 CT VISp Gpr139' 'L6 CT VISp Nxph2 Wls' 'L6 CT ALM Nxph2 Sla']\n",
      "\n",
      "parent_class: L6 IT\n",
      "Start training cluster entries with multiclass output: ['L6 IT VISp Penk Fst' 'L6 IT VISp Penk Col27a1'\n",
      " 'L6 IT VISp Col23a1 Adamts2' 'L6 IT VISp Col18a1' 'L6 IT VISp Car3']\n",
      "\n",
      "parent_class: L2/3 IT\n",
      "Start training cluster entries with multiclass output: ['L2/3 IT VISp Rrad' 'L2/3 IT VISp Agmat' 'L2/3 IT VISp Adamts2']\n",
      "\n",
      "parent_class: L5 PT\n",
      "Start training cluster entries with multiclass output: ['L5 PT VISp C1ql2 Cdh13' 'L5 PT VISp C1ql2 Ptgfr' 'L5 PT VISp Krt80'\n",
      " 'L5 PT VISp Chrna6' 'L5 PT VISp Lgr5']\n",
      "\n",
      "parent_class: L5 IT\n",
      "Start training cluster entries with multiclass output: ['L5 IT VISp Hsd11b1 Endou' 'L5 IT VISp Batf3' 'L5 IT VISp Col27a1'\n",
      " 'L5 IT VISp Col6a1 Fezf2' 'L5 IT VISp Whrn Tox2']\n",
      "\n",
      "parent_class: NP\n",
      "Start training cluster entries with multiclass output: ['L5 NP VISp Trhr Met' 'L5 NP VISp Trhr Cpne7']\n",
      "\n",
      "parent_class: L6b\n",
      "Start training cluster entries with multiclass output: ['L6b P2ry12' 'L6b VISp Col8a1 Rxfp1' 'L6b VISp Mup5'\n",
      " 'L6b VISp Col8a1 Rprm' 'L6b VISp Crh']\n",
      "CPU times: user 1min 17s, sys: 4.15 s, total: 1min 21s\n",
      "Wall time: 1min 21s\n"
     ]
    },
    {
     "data": {
      "text/plain": [
       "(class_name: , parent: None)"
      ]
     },
     "execution_count": 102,
     "metadata": {},
     "output_type": "execute_result"
    }
   ],
   "source": [
    "%%time\n",
    "# get part of data where all cluster types are represented\n",
    "\n",
    "drop_columns = list(filter(lambda col: col != \"cluster\" , labels.columns))\n",
    "dclusters = labels.drop(columns = drop_columns).values.ravel()\n",
    "\n",
    "# only use part (1/5) of data\n",
    "skf = StratifiedKFold(n_splits=5, random_state=1337, shuffle=True)\n",
    "for train_index, test_index in skf.split(df, dclusters):\n",
    "    root = Node(None, \"\")\n",
    "    train_hyr_nn(df.take(test_index), labels.take(test_index), root)\n",
    "    break\n",
    "\n",
    "root"
   ]
  },
  {
   "cell_type": "code",
   "execution_count": 100,
   "id": "853b921e-d217-4212-a40e-d7deda2a597c",
   "metadata": {},
   "outputs": [
    {
     "data": {
      "text/plain": [
       "{'GABAergic': (class_name: GABAergic, parent: (class_name: , parent: None)),\n",
       " 'Glutamatergic': (class_name: Glutamatergic, parent: (class_name: , parent: None)),\n",
       " 'Non-Neuronal': None}"
      ]
     },
     "execution_count": 100,
     "metadata": {},
     "output_type": "execute_result"
    }
   ],
   "source": [
    "root.children"
   ]
  },
  {
   "cell_type": "code",
   "execution_count": 99,
   "id": "6bad6929-d3fe-4384-8a5b-855efcbe4b34",
   "metadata": {},
   "outputs": [
    {
     "name": "stdout",
     "output_type": "stream",
     "text": [
      "(class_name: Lamp5, parent: (class_name: GABAergic, parent: (class_name: , parent: None)))\n"
     ]
    }
   ],
   "source": [
    "# pprint(root.children)\n",
    "# pprint(root.children[\"GABAergic\"].children)\n",
    "pprint(root.children[\"GABAergic\"].children[\"Lamp5\"])"
   ]
  },
  {
   "cell_type": "code",
   "execution_count": 54,
   "id": "0619a9e4-705b-42ec-ad8d-e85bc8c83a88",
   "metadata": {},
   "outputs": [
    {
     "data": {
      "text/plain": [
       "array([], dtype=object)"
      ]
     },
     "execution_count": 54,
     "metadata": {},
     "output_type": "execute_result"
    }
   ],
   "source": [
    "index = dclusters == \"Oligo Synpr\"\n",
    "dclusters[index]"
   ]
  },
  {
   "cell_type": "code",
   "execution_count": null,
   "id": "37d9c3f4-40bd-4b77-8494-1045bfc2f904",
   "metadata": {},
   "outputs": [],
   "source": []
  },
  {
   "cell_type": "code",
   "execution_count": null,
   "id": "4512c81f-051d-4077-a58d-2f1a7d5b106e",
   "metadata": {},
   "outputs": [],
   "source": []
  }
 ],
 "metadata": {
  "kernelspec": {
   "display_name": "ml",
   "language": "python",
   "name": "ml"
  },
  "language_info": {
   "codemirror_mode": {
    "name": "ipython",
    "version": 3
   },
   "file_extension": ".py",
   "mimetype": "text/x-python",
   "name": "python",
   "nbconvert_exporter": "python",
   "pygments_lexer": "ipython3",
   "version": "3.9.7"
  }
 },
 "nbformat": 4,
 "nbformat_minor": 5
}
