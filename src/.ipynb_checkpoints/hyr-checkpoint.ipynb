{
 "cells": [
  {
   "cell_type": "code",
   "execution_count": 2,
   "id": "d6797478-9721-4416-97af-f512e368c752",
   "metadata": {},
   "outputs": [],
   "source": [
    "import numpy as np\n",
    "import pandas as pd\n",
    "import matplotlib.pyplot as plt\n",
    "import random\n",
    "from sklearn import datasets, neighbors, metrics, tree, svm, preprocessing, model_selection, ensemble\n",
    "from sklearn.model_selection import StratifiedKFold\n"
   ]
  },
  {
   "cell_type": "code",
   "execution_count": null,
   "id": "51c59c4a-7324-4cbf-b9a2-921ba0acb2e1",
   "metadata": {},
   "outputs": [
    {
     "name": "stdout",
     "output_type": "stream",
     "text": [
      "CPU times: user 4min 41s, sys: 6.47 s, total: 4min 47s\n",
      "Wall time: 4min 50s\n"
     ]
    }
   ],
   "source": [
    "#%%time\n",
    "#\n",
    "## load labels\n",
    "#labels = pd.read_csv('../data/Lauren/Labels.csv')\n",
    "##labels.head() # to display the first 5 lines of loaded data\n",
    "#\n",
    "## load data\n",
    "#df = pd.read_csv('../data/Lauren/500_PBMC_3p_LT_Chromium_X_metrics_summary.csv') # takes about 5min\n"
   ]
  },
  {
   "cell_type": "code",
   "execution_count": null,
   "id": "8096e53a-5b74-4a69-8873-4e072d0ffe66",
   "metadata": {},
   "outputs": [
    {
     "name": "stdout",
     "output_type": "stream",
     "text": [
      "CPU times: user 1.68 s, sys: 18 s, total: 19.7 s\n",
      "Wall time: 20.6 s\n"
     ]
    }
   ],
   "source": [
    "#%%time\n",
    "## filter out certain data\n",
    "def gereral_data_filter(df, labels, filter_on, amount_higher_than):\n",
    "    ## Filter info\n",
    "    classes_count = labels.groupby(filter_on).count()\n",
    "    classes_to_keep = list(classes_count[classes_count[classes_count.columns[-1]] >= amount_higher_than].index)\n",
    "    keep_indices = labels[filter_on].isin(classes_to_keep)\n",
    "    \n",
    "    ## delete entries part of class that's too small, remove names column\n",
    "    return (df[keep_indices].drop(columns=[\"Unnamed: 0\"]), labels[keep_indices])\n",
    "\n",
    "#df, labels = gereral_data_filter(df, labels, \"cluster\", 10)"
   ]
  },
  {
   "cell_type": "code",
   "execution_count": 3,
   "id": "e1f347f4-9fcc-4ee8-ba20-eec3d46be640",
   "metadata": {},
   "outputs": [
    {
     "name": "stdout",
     "output_type": "stream",
     "text": [
      "CPU times: user 0 ns, sys: 1.64 s, total: 1.64 s\n",
      "Wall time: 1.64 s\n"
     ]
    }
   ],
   "source": [
    "%%time\n",
    "df = pd.read_pickle(\"../data/Lauren/df.pkl\")\n",
    "labels = pd.read_pickle(\"../data/Lauren/labels.pkl\")"
   ]
  },
  {
   "cell_type": "code",
   "execution_count": 4,
   "id": "c663c41e-504a-4c07-9e38-038ce803cc8d",
   "metadata": {},
   "outputs": [],
   "source": [
    "def train_linear_nn(df, labels, class_column_name): # todo: give linear classifier as argument\n",
    "    # only keep the needed column\n",
    "    drop_columns = filter(lambda col: col != class_column_name , labels.columns)\n",
    "    labels = labels.drop(columns = drop_columns).values.ravel()\n",
    "    \n",
    "    # use this to split dataset in 2 parts, test and train\n",
    "    skf = StratifiedKFold(n_splits=2, random_state=1337, shuffle=True)\n",
    "    \n",
    "    for train_index, test_index in skf.split(df, labels):\n",
    "        #test_index, train_index = train_index, test_index # train on 1/5 of the data, test on 4/5ths\n",
    "        # get train and test set\n",
    "        X_train, X_test = df.take(train_index), df.take(test_index)\n",
    "        y_train, y_test = labels[train_index], labels[test_index]\n",
    "        \n",
    "        # 1vRest training\n",
    "        print(\"TRAIN:\", train_index, \"TEST:\", test_index)\n",
    "        print(\"Start fitting\")\n",
    "        lin_clf = svm.LinearSVC()\n",
    "        lin_clf.fit(X_train, y_train)\n",
    "        \n",
    "        # predicting\n",
    "        print(\"Start predicting\")\n",
    "        y_pred_lin_clf = lin_clf.predict(X_test)\n",
    "        \n",
    "        # metrics\n",
    "        #print(\"Calculating metrics\")\n",
    "        \n",
    "        print(f\"F1 macro-average: {metrics.f1_score(y_test, y_pred_lin_clf, average='macro')}\")\n",
    "        print(f\"F1 weighted-average: {metrics.f1_score(y_test, y_pred_lin_clf, average='weighted')}\")\n",
    "        f1 = metrics.f1_score(y_test, y_pred_lin_clf, average=None)\n",
    "        print(f\"accuracy: {metrics.accuracy_score(y_test, y_pred_lin_clf)}\")\n",
    "        \n",
    "        unique_labels_df = pd.DataFrame(pd.Series(y_test).unique())\n",
    "        f1_df = pd.DataFrame(f1)\n",
    "        print(pd.concat([unique_labels_df, f1_df], axis=1, keys=['dcluster', 'f1_per_dcluster']))\n",
    "        \n",
    "        # just do 1 iteration\n",
    "        return (lin_clf, f1)\n",
    "    \n",
    "    \n",
    "#drop_columns = filter(lambda col: col != \"Class\" , labels.columns)\n",
    "#list(drop_columns)\n"
   ]
  },
  {
   "cell_type": "code",
   "execution_count": 5,
   "id": "6529f652-65c1-42ff-95e3-b10ddc200369",
   "metadata": {},
   "outputs": [
    {
     "name": "stdout",
     "output_type": "stream",
     "text": [
      "TRAIN: [    0     2     3 ... 12774 12776 12780] TEST: [    1     4     5 ... 12777 12778 12779]\n",
      "Start fitting\n",
      "Start predicting\n",
      "F1 macro-average: 1.0\n",
      "F1 weighted-average: 1.0\n",
      "accuracy: 1.0\n",
      "        dcluster f1_per_dcluster\n",
      "               0               0\n",
      "0      GABAergic             1.0\n",
      "1  Glutamatergic             1.0\n",
      "2   Non-Neuronal             1.0\n",
      "CPU times: user 19.5 s, sys: 22.8 s, total: 42.3 s\n",
      "Wall time: 49.4 s\n"
     ]
    },
    {
     "data": {
      "text/plain": [
       "array([1., 1., 1.])"
      ]
     },
     "execution_count": 5,
     "metadata": {},
     "output_type": "execute_result"
    }
   ],
   "source": [
    "%%time\n",
    "# as a test, train the first neural network to divide the data into Classes\n",
    "(clf, all_f1) = train_linear_nn(df, labels, \"Class\")\n",
    "all_f1"
   ]
  },
  {
   "cell_type": "code",
   "execution_count": 12,
   "id": "d1d49ebd-7577-4bec-a649-13c6f7f42a42",
   "metadata": {},
   "outputs": [
    {
     "data": {
      "text/plain": [
       "(1554, 3)"
      ]
     },
     "execution_count": 12,
     "metadata": {},
     "output_type": "execute_result"
    }
   ],
   "source": [
    "def filter_data_on_class_name(df, labels, class_name, class_column_name):\n",
    "    keep_indices = labels[class_column_name] == class_name\n",
    "    return (df[keep_indices], labels[keep_indices])\n",
    "\n",
    "def train_hyr_nn(df, labels, parent_class, parent_class_column):\n",
    "    # train neural net to classify input in the child classes\n",
    "    # remove all entries that do not belong to the parent_class\n",
    "    df, labels = filter_data_on_class_name(df, labels, parent_class, parent_class, parent_class_column)\n",
    "    \n",
    "    # get the child_class_column\n",
    "    child_class_column = labels.columns[list(labels.columns).index(parent_class_column) + 1]\n",
    "    \n",
    "    # neural net that further classifies entries\n",
    "    clf = train_linear_nn(df, labels, child_class_column)\n",
    "    \n",
    "    \n",
    "#filter_child_class(df, labels, \"Vip\", \"Subclass\")[1].shape"
   ]
  },
  {
   "cell_type": "code",
   "execution_count": 7,
   "id": "9bb861b3-613e-43f4-90bc-c1de08c91968",
   "metadata": {},
   "outputs": [
    {
     "data": {
      "text/plain": [
       "3"
      ]
     },
     "execution_count": 7,
     "metadata": {},
     "output_type": "execute_result"
    }
   ],
   "source": [
    "#def train_hyr_nn(df, labels):\n",
    "depth = len(labels.columns)\n",
    "for column in labels.columns:\n",
    "    \n"
   ]
  },
  {
   "cell_type": "code",
   "execution_count": null,
   "id": "37d9c3f4-40bd-4b77-8494-1045bfc2f904",
   "metadata": {},
   "outputs": [],
   "source": []
  }
 ],
 "metadata": {
  "kernelspec": {
   "display_name": "ml",
   "language": "python",
   "name": "ml"
  },
  "language_info": {
   "codemirror_mode": {
    "name": "ipython",
    "version": 3
   },
   "file_extension": ".py",
   "mimetype": "text/x-python",
   "name": "python",
   "nbconvert_exporter": "python",
   "pygments_lexer": "ipython3",
   "version": "3.9.7"
  }
 },
 "nbformat": 4,
 "nbformat_minor": 5
}
