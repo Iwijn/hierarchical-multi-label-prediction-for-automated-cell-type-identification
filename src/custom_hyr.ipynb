{
 "cells": [
  {
   "cell_type": "code",
   "execution_count": 1,
   "id": "9556da81-7ba6-4369-af96-21d949574742",
   "metadata": {},
   "outputs": [],
   "source": [
    "import numpy as np\n",
    "import pandas as pd\n",
    "import matplotlib.pyplot as plt\n",
    "import random\n",
    "from sklearn import datasets, neighbors, metrics, tree, svm, preprocessing, model_selection, ensemble\n",
    "from sklearn.base import clone as sklearn_clone\n",
    "from sklearn.model_selection import StratifiedKFold\n",
    "from pprint import pprint"
   ]
  },
  {
   "cell_type": "code",
   "execution_count": 2,
   "id": "4e328c4b-c2a5-4f3d-b90b-db1e4c8a9526",
   "metadata": {},
   "outputs": [
    {
     "name": "stdout",
     "output_type": "stream",
     "text": [
      "CPU times: user 17.2 ms, sys: 2.43 s, total: 2.45 s\n",
      "Wall time: 2.57 s\n"
     ]
    }
   ],
   "source": [
    "%%time\n",
    "df = pd.read_pickle(\"../data/Lauren/bam_df.pkl\")\n",
    "labels = pd.read_pickle(\"../data/Lauren/bam_labels.pkl\")"
   ]
  },
  {
   "cell_type": "code",
   "execution_count": 3,
   "id": "f3f20284-a1ee-4acb-9779-dcec4f64ad1b",
   "metadata": {},
   "outputs": [],
   "source": [
    "def calc_metrics(y_test, y_pred, f1_file_name=None):\n",
    "    unique_labels_df = pd.DataFrame(pd.Series(y_test).unique())\n",
    "    f1 = pd.DataFrame(metrics.f1_score(y_test, y_pred, average=None, labels = unique_labels_df[0]))\n",
    "    acc = metrics.accuracy_score(y_test, y_pred)\n",
    "\n",
    "    print(f\"accuracy: {acc}\")\n",
    "    f1_micro = metrics.f1_score(y_test, y_pred, average='micro')\n",
    "    f1_macro = metrics.f1_score(y_test, y_pred, average='macro')\n",
    "    f1_weighted = metrics.f1_score(y_test, y_pred, average='weighted')\n",
    "    print(f\"F1 micro-average: {f1_micro}\")\n",
    "    print(f\"F1 macro-average: {f1_macro}\")\n",
    "    print(f\"F1 weighted-average: {f1_weighted}\")\n",
    "    print()\n",
    "    \n",
    "    # seperate f1 score for each label\n",
    "    f1_labeled = pd.concat([unique_labels_df[0], f1[0]], axis=1, keys=['class', 'f1_per_class'])\n",
    "    # print(f1_labeled)\n",
    "    \n",
    "    # save seperate f1 scores\n",
    "    if f1_file_name is not None:\n",
    "        f1_labeled.to_csv(f1_file_name, index=False)\n",
    "    \n",
    "    return pd.DataFrame([[acc, f1_micro, f1_macro, f1_weighted]], columns=[\"accuracy\", \"F1 micro-average\", \"F1 macro-average\", \"F1 weighted-average\"])\n",
    "    "
   ]
  },
  {
   "cell_type": "code",
   "execution_count": 4,
   "id": "830f7327-0f92-4190-a146-ac0e8daa0939",
   "metadata": {},
   "outputs": [],
   "source": [
    "def flatify(multi_y):\n",
    "    try:\n",
    "        if multi_y.shape[1] == 1:\n",
    "            return multi_y\n",
    "    except:\n",
    "        return multi_y\n",
    "\n",
    "    def most_specific_class(row):\n",
    "        for i in range(len(row)):\n",
    "            if row.iloc[i] is None or row.iloc[i] == \"\":\n",
    "                break\n",
    "        return row.iloc[i-1]\n",
    "    return multi_y.apply(lambda row: most_specific_class(row), axis=1)\n"
   ]
  },
  {
   "cell_type": "code",
   "execution_count": 5,
   "id": "68da7e13-eae9-46f4-8247-cc52a6e6f134",
   "metadata": {},
   "outputs": [],
   "source": [
    "# train a flat multi label classifier\n",
    "# df: X\n",
    "# labels: multiple columns, one of which will be y\n",
    "# class_column_name: the name of the column in labels that will be y\n",
    "def train_flat(clf, df, labels, class_column_name): \n",
    "    # only keep the needed column\n",
    "    drop_columns = filter(lambda col: col != class_column_name , labels.columns)\n",
    "    labels = labels.drop(columns = drop_columns).values.ravel()\n",
    "     \n",
    "    X_train, y_train = df, labels\n",
    "    # copy the model, important for hierarchical\n",
    "    clf = sklearn_clone(clf)\n",
    "    clf.fit(X_train, y_train)\n",
    "    \n",
    "    return clf"
   ]
  },
  {
   "cell_type": "code",
   "execution_count": null,
   "id": "8774c15d-c8ed-4b7b-a029-fadfe3923af6",
   "metadata": {},
   "outputs": [
    {
     "name": "stdout",
     "output_type": "stream",
     "text": [
      "Start training of level 0\n",
      "Start training of level 1\n",
      "Start training of level 2\n"
     ]
    },
    {
     "ename": "NameError",
     "evalue": "name 'on_label' is not defined",
     "output_type": "error",
     "traceback": [
      "\u001b[0;31m---------------------------------------------------------------------------\u001b[0m",
      "\u001b[0;31mNameError\u001b[0m                                 Traceback (most recent call last)",
      "\u001b[0;32m/tmp/ipykernel_240936/2109943877.py\u001b[0m in \u001b[0;36m<module>\u001b[0;34m\u001b[0m\n\u001b[1;32m     37\u001b[0m \u001b[0;34m\u001b[0m\u001b[0m\n\u001b[1;32m     38\u001b[0m     \u001b[0;31m# metrics\u001b[0m\u001b[0;34m\u001b[0m\u001b[0;34m\u001b[0m\u001b[0m\n\u001b[0;32m---> 39\u001b[0;31m     \u001b[0maccs\u001b[0m \u001b[0;34m=\u001b[0m \u001b[0maccs\u001b[0m\u001b[0;34m.\u001b[0m\u001b[0mappend\u001b[0m\u001b[0;34m(\u001b[0m\u001b[0mcalc_metrics\u001b[0m\u001b[0;34m(\u001b[0m\u001b[0my_test\u001b[0m\u001b[0;34m[\u001b[0m\u001b[0mon_label\u001b[0m\u001b[0;34m]\u001b[0m\u001b[0;34m,\u001b[0m \u001b[0my_pred_hyr\u001b[0m\u001b[0;34m[\u001b[0m\u001b[0;36m0\u001b[0m\u001b[0;34m]\u001b[0m\u001b[0;34m,\u001b[0m \u001b[0;34mf\"../results/hyr_clf_f1-{k}.csv\"\u001b[0m\u001b[0;34m)\u001b[0m\u001b[0;34m)\u001b[0m\u001b[0;34m\u001b[0m\u001b[0;34m\u001b[0m\u001b[0m\n\u001b[0m\u001b[1;32m     40\u001b[0m     \u001b[0mk\u001b[0m \u001b[0;34m+=\u001b[0m \u001b[0;36m1\u001b[0m\u001b[0;34m\u001b[0m\u001b[0;34m\u001b[0m\u001b[0m\n\u001b[1;32m     41\u001b[0m \u001b[0;34m\u001b[0m\u001b[0m\n",
      "\u001b[0;31mNameError\u001b[0m: name 'on_label' is not defined"
     ]
    }
   ],
   "source": [
    "depth = len(labels.columns)\n",
    "# train a clf for each depth in the tree\n",
    "folds = 5\n",
    "folds_random_state = 1337\n",
    "y = labels\n",
    "X = df\n",
    "clf = svm.LinearSVC(max_iter=2000)\n",
    "\n",
    "skf = StratifiedKFold(n_splits=folds, random_state=folds_random_state, shuffle=folds_random_state is not None)\n",
    "\n",
    "k = 0\n",
    "accs = pd.DataFrame()\n",
    "y_flat = flatify(y)\n",
    "for train_index, test_index in skf.split(X, y_flat):\n",
    "\n",
    "    # get train and test set\n",
    "    X_train, X_test = X.take(train_index), X.take(test_index)\n",
    "    y_train, y_test = y.take(train_index), y.take(test_index)\n",
    "\n",
    "    # divide train set up in 'depth' parts\n",
    "    skf_train = StratifiedKFold(n_splits=depth, random_state=folds_random_state, shuffle=folds_random_state is not None)\n",
    "    # get the indeces of the training data for the clf of each layer \n",
    "    level_indices = []\n",
    "    for level_train_index, level_test_index in skf_train.split(X_train, flatify(y_train)):\n",
    "        level_indices.append(level_train_index)\n",
    "    \n",
    "    level_clfs = []\n",
    "    for i in range(depth):\n",
    "        print(f\"Start training of level {i}\")\n",
    "        # train the clf of the ith layer\n",
    "        indices = level_indices[i]\n",
    "        level_X_train, level_y_train = X_train.take(indices), y_train.take(indices)\n",
    "        \n",
    "        level_clfs.append(train_flat(clf, level_X_train, level_y_train, level_y_train.columns[i]))\n",
    "        \n",
    "\n",
    "    \n",
    "    # metrics\n",
    "    break\n",
    "    # accs = accs.append(calc_metrics(y_test[on_label], y_pred_hyr[0], f\"../results/hyr_clf_f1-{k}.csv\"))\n",
    "    # k += 1\n",
    "\n",
    "accs.mean()\n"
   ]
  },
  {
   "cell_type": "code",
   "execution_count": null,
   "id": "e063ddf5-575f-48de-810a-669d997dc323",
   "metadata": {},
   "outputs": [
    {
     "data": {
      "text/plain": [
       "[LinearSVC(max_iter=2000), LinearSVC(max_iter=2000), LinearSVC(max_iter=2000)]"
      ]
     },
     "execution_count": 8,
     "metadata": {},
     "output_type": "execute_result"
    }
   ],
   "source": [
    "level_clfs\n"
   ]
  },
  {
   "cell_type": "code",
   "execution_count": 15,
   "id": "ab6d8533-716d-453e-a02c-d9d0c95c4aba",
   "metadata": {},
   "outputs": [
    {
     "name": "stdout",
     "output_type": "stream",
     "text": [
      "accuracy: 1.0\n",
      "F1 micro-average: 1.0\n",
      "F1 macro-average: 1.0\n",
      "F1 weighted-average: 1.0\n",
      "\n",
      "accuracy: 0.9945248337895972\n",
      "F1 micro-average: 0.9945248337895972\n",
      "F1 macro-average: 0.9629827412174613\n",
      "F1 weighted-average: 0.9942474398624058\n",
      "\n",
      "accuracy: 0.9018380915134924\n",
      "F1 micro-average: 0.9018380915134924\n",
      "F1 macro-average: 0.8341886967204816\n",
      "F1 weighted-average: 0.8996741027632947\n",
      "\n"
     ]
    },
    {
     "data": {
      "text/html": [
       "<div>\n",
       "<style scoped>\n",
       "    .dataframe tbody tr th:only-of-type {\n",
       "        vertical-align: middle;\n",
       "    }\n",
       "\n",
       "    .dataframe tbody tr th {\n",
       "        vertical-align: top;\n",
       "    }\n",
       "\n",
       "    .dataframe thead th {\n",
       "        text-align: right;\n",
       "    }\n",
       "</style>\n",
       "<table border=\"1\" class=\"dataframe\">\n",
       "  <thead>\n",
       "    <tr style=\"text-align: right;\">\n",
       "      <th></th>\n",
       "      <th>accuracy</th>\n",
       "      <th>F1 micro-average</th>\n",
       "      <th>F1 macro-average</th>\n",
       "      <th>F1 weighted-average</th>\n",
       "    </tr>\n",
       "  </thead>\n",
       "  <tbody>\n",
       "    <tr>\n",
       "      <th>0</th>\n",
       "      <td>0.901838</td>\n",
       "      <td>0.901838</td>\n",
       "      <td>0.834189</td>\n",
       "      <td>0.899674</td>\n",
       "    </tr>\n",
       "  </tbody>\n",
       "</table>\n",
       "</div>"
      ],
      "text/plain": [
       "   accuracy  F1 micro-average  F1 macro-average  F1 weighted-average\n",
       "0  0.901838          0.901838          0.834189             0.899674"
      ]
     },
     "execution_count": 15,
     "metadata": {},
     "output_type": "execute_result"
    }
   ],
   "source": [
    "pred_y = level_clfs[0].predict(X_test)\n",
    "calc_metrics(y_test[y_test.columns[0]], pred_y)\n",
    "\n",
    "pred_y = level_clfs[1].predict(X_test)\n",
    "calc_metrics(y_test[y_test.columns[1]], pred_y)\n",
    "\n",
    "pred_y = level_clfs[2].predict(X_test)\n",
    "calc_metrics(y_test[y_test.columns[2]], pred_y)"
   ]
  },
  {
   "cell_type": "code",
   "execution_count": null,
   "id": "84cec2fe-3667-4563-9002-97e483ea0d01",
   "metadata": {},
   "outputs": [],
   "source": []
  }
 ],
 "metadata": {
  "kernelspec": {
   "display_name": "ml",
   "language": "python",
   "name": "ml"
  },
  "language_info": {
   "codemirror_mode": {
    "name": "ipython",
    "version": 3
   },
   "file_extension": ".py",
   "mimetype": "text/x-python",
   "name": "python",
   "nbconvert_exporter": "python",
   "pygments_lexer": "ipython3",
   "version": "3.9.7"
  }
 },
 "nbformat": 4,
 "nbformat_minor": 5
}
