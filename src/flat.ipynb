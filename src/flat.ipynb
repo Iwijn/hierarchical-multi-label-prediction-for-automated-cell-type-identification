{
 "cells": [
  {
   "cell_type": "code",
   "execution_count": 1,
   "id": "306a1264-fea9-4302-af2f-3c531b8e64e0",
   "metadata": {},
   "outputs": [],
   "source": [
    "import numpy as np\n",
    "import pandas as pd\n",
    "from sklearn import svm\n",
    "from sklearn import model_selection\n"
   ]
  },
  {
   "cell_type": "code",
   "execution_count": 2,
   "id": "9fe8a146-6f60-4360-a02b-f84c0118b0a5",
   "metadata": {},
   "outputs": [],
   "source": [
    "import matplotlib.pyplot as plt\n",
    "import numpy as np\n",
    "import random\n",
    "from sklearn import datasets, neighbors, metrics, tree, svm, preprocessing\n",
    "from sklearn.model_selection import train_test_split, StratifiedKFold\n",
    "from sklearn import ensemble\n",
    "\n",
    "# Calculates the per-class accuracy given predicted and true output labels.\n",
    "def class_accs(y_pred, y_true):\n",
    "    acc0 = ((y_pred == y_true) & (y_true == 0)).sum() / (y_true == 0).sum()\n",
    "    acc1 = ((y_pred == y_true) & (y_true == 1)).sum() / (y_true == 1).sum()\n",
    "    return acc0, acc1\n",
    "\n",
    "# Prints a summary of performance metrics given predicted and true output labels. (source: pract3)\n",
    "def print_metrics(y_pred, y_true):\n",
    "    # https://scikit-learn.org/stable/modules/generated/sklearn.metrics.f1_score.html\n",
    "    f1 = metrics.f1_score(y_true, y_pred, average=None)\n",
    "    acc = metrics.accuracy_score(y_true, y_pred)\n",
    "    #acc0, acc1 = class_accs(y_pred, y_true)\n",
    "    print(f'\\tF1 = {f1}')\n",
    "    print(f'\\tAccuracy = {acc}')\n",
    "    #print(f'\\t\\tclass 0: {acc0}')\n",
    "    #print(f'\\t\\tclass 1: {acc1}')\n",
    "    \n",
    "\n"
   ]
  },
  {
   "cell_type": "code",
   "execution_count": 3,
   "id": "87544c7d-07bd-4eb4-ae42-7ac52a4f9fd5",
   "metadata": {},
   "outputs": [
    {
     "name": "stdout",
     "output_type": "stream",
     "text": [
      "CPU times: user 5min 11s, sys: 6.49 s, total: 5min 18s\n",
      "Wall time: 5min 21s\n"
     ]
    }
   ],
   "source": [
    "%%time\n",
    "\n",
    "# load labels\n",
    "labels = pd.read_csv('../data/Lauren/Labels.csv')\n",
    "#labels.head() # to display the first 5 lines of loaded data\n",
    "\n",
    "# load data\n",
    "df = pd.read_csv('../data/Lauren/500_PBMC_3p_LT_Chromium_X_metrics_summary.csv') # takes about 5min\n",
    "\n"
   ]
  },
  {
   "cell_type": "code",
   "execution_count": 4,
   "id": "b92cb57c-675d-4965-abd0-ed4f99e96cd7",
   "metadata": {},
   "outputs": [],
   "source": [
    "def filter_info(df, labels, filter_on, amount_higher_than):\n",
    "    ## Filter info\n",
    "    classes_count = labels.groupby(filter_on).count()\n",
    "    #print(classes_count)\n",
    "    # the count is in last column: classes_count[classes_count.columns[-1]\n",
    "    classes_to_keep = list(classes_count[classes_count[classes_count.columns[-1]] >= amount_higher_than].index)\n",
    "    #print(f\"{len(classes_to_keep)} classes to keep: {classes_to_keep}\")\n",
    "    \n",
    "    return classes_to_keep\n",
    "\n",
    "classes_to_keep = filter_info(df, labels, \"cluster\", 10)\n"
   ]
  },
  {
   "cell_type": "code",
   "execution_count": 5,
   "id": "d5d3205b-b33b-4f0c-958a-14ed37b40115",
   "metadata": {},
   "outputs": [],
   "source": [
    "keep_indices = labels[\"cluster\"].isin(classes_to_keep)\n",
    "labels = labels[keep_indices]\n",
    "df = df[keep_indices]"
   ]
  },
  {
   "cell_type": "code",
   "execution_count": 6,
   "id": "079832ae-5ce5-4457-baae-176a50101c79",
   "metadata": {},
   "outputs": [
    {
     "name": "stdout",
     "output_type": "stream",
     "text": [
      "Classes left: ['GABAergic', 'Glutamatergic', 'Non-Neuronal']\n"
     ]
    }
   ],
   "source": [
    "print(f\"Classes left: {filter_info(df, labels, 'Class', 10)}\")"
   ]
  },
  {
   "cell_type": "code",
   "execution_count": 7,
   "id": "c070ef0c-2b04-4714-95d5-b7f7b5ccb3ae",
   "metadata": {},
   "outputs": [],
   "source": [
    "# filter out Endothelial because barely any entries\n",
    "#keep_indices = labels[\"Class\"].isin(['GABAergic', 'Glutamatergic', 'Non-Neuronal'])\n",
    "#labels = labels[keep_indices]\n",
    "#df = df[keep_indices]\n",
    "\n",
    "# remove names of cells\n",
    "df = df.drop(columns=[\"Unnamed: 0\"])\n",
    "# only keep most specific classification (for now)\n",
    "labels = labels.drop(columns = [\"Class\", \"Subclass\"]).values.ravel()"
   ]
  },
  {
   "cell_type": "code",
   "execution_count": 8,
   "id": "206c4e33-00ec-499c-93a9-613acf444408",
   "metadata": {},
   "outputs": [
    {
     "data": {
      "text/plain": [
       "array(['Vip Arhgap36 Hmcn1', 'Lamp5 Lsp1', 'Lamp5 Lsp1', ...,\n",
       "       'Pvalb Gpr149 Islr', 'L5 PT VISp C1ql2 Cdh13', 'Sst Calb2 Pdlim5'],\n",
       "      dtype=object)"
      ]
     },
     "execution_count": 8,
     "metadata": {},
     "output_type": "execute_result"
    }
   ],
   "source": [
    "labels"
   ]
  },
  {
   "cell_type": "code",
   "execution_count": null,
   "id": "42395df1-7e17-4143-a6bb-61ec3331e6d9",
   "metadata": {},
   "outputs": [],
   "source": []
  },
  {
   "cell_type": "code",
   "execution_count": 9,
   "id": "fd1d840d-5033-4035-b682-bf7238e5deb3",
   "metadata": {},
   "outputs": [
    {
     "name": "stdout",
     "output_type": "stream",
     "text": [
      "Number of splitting iterations in the cross-validator skf: 2\n",
      "StratifiedKFold(n_splits=2, random_state=1337, shuffle=True)\n",
      "\n",
      "[    0     3     4 ... 12777 12778 12780]\n",
      "TRAIN: [    0     3     4 ... 12777 12778 12780] TEST: [    1     2     5 ... 12773 12774 12779]\n",
      "Start fitting\n"
     ]
    },
    {
     "name": "stderr",
     "output_type": "stream",
     "text": [
      "/home/iwijn/ml/machine-learning-project/venv/lib/python3.9/site-packages/sklearn/svm/_base.py:1199: ConvergenceWarning: Liblinear failed to converge, increase the number of iterations.\n",
      "  warnings.warn(\n"
     ]
    },
    {
     "name": "stdout",
     "output_type": "stream",
     "text": [
      "Start predicting\n",
      "Calculating metrics\n",
      "                   cluser f1_per_cluster\n",
      "                        0              0\n",
      "0              Lamp5 Lsp1       0.909091\n",
      "1          Sst Tac1 Tacr3       0.858586\n",
      "2             Lamp5 Krt73       0.951952\n",
      "3        Vip Igfbp6 Car10       0.833333\n",
      "4       Lamp5 Plch2 Dock5       0.992571\n",
      "..                    ...            ...\n",
      "88    L6 CT ALM Nxph2 Sla       0.805195\n",
      "89     Pvalb Sema3e Kank4       0.947368\n",
      "90   L5 IT VISp Whrn Tox2       0.773723\n",
      "91  L6b VISp Col8a1 Rxfp1       0.611111\n",
      "92           L6b VISp Crh       0.793103\n",
      "\n",
      "[93 rows x 2 columns]\n",
      "0.9023626975434205\n"
     ]
    }
   ],
   "source": [
    "#%%time GOOD RESULT DONT DELETE\n",
    "#size = df.shape[0]\n",
    "#train_size = int(size/10)\n",
    "#X_train = df[:train_size]\n",
    "#y_train = labels[:train_size]\n",
    "#X_test = df[train_size:2*train_size]\n",
    "#y_test = labels[train_size:2*train_size]\n",
    "\n",
    "# https://scikit-learn.org/stable/modules/generated/sklearn.model_selection.StratifiedKFold.html#sklearn.model_selection.StratifiedKFold\n",
    "# kies meer random: \n",
    "skf = StratifiedKFold(n_splits=2, random_state=1337, shuffle=True)\n",
    "print(f\"Number of splitting iterations in the cross-validator skf: {skf.get_n_splits(df)}\")\n",
    "print(skf)\n",
    "print()\n",
    "\n",
    "for train_index, test_index in skf.split(df, labels):\n",
    "    # get train and test set\n",
    "    print(train_index)\n",
    "    X_train, X_test = df.take(train_index), df.take(test_index)\n",
    "    y_train, y_test = labels[train_index], labels[test_index]\n",
    "    \n",
    "    # 1vRest training\n",
    "    print(\"TRAIN:\", train_index, \"TEST:\", test_index)\n",
    "    print(\"Start fitting\")\n",
    "    lin_clf = svm.LinearSVC()\n",
    "    lin_clf.fit(X_train, y_train)\n",
    "    \n",
    "    # predicting\n",
    "    print(\"Start predicting\")\n",
    "    y_pred_lin_clf = lin_clf.predict(X_test)\n",
    "    \n",
    "    # metrics\n",
    "    print(\"Calculating metrics\")\n",
    "    f1 = metrics.f1_score(y_test, y_pred_lin_clf, average=None)\n",
    "    acc = metrics.accuracy_score(y_test, y_pred_lin_clf)\n",
    "    \n",
    "    unique_labels_df = pd.DataFrame(pd.Series(y_test).unique())\n",
    "    f1_df = pd.DataFrame(f1)\n",
    "    print(pd.concat([unique_labels_df, f1_df], axis=1, keys=['cluster', 'f1_per_cluster']))\n",
    "    print(acc)\n",
    "    \n",
    "    # just do 1 iteration\n",
    "    break\n",
    "    \n",
    "# duurt super lang\n",
    "#from sklearn import model_selection\n",
    "#print(model_selection.cross_validate(svm.SVC(kernel = 'linear'), X_train, y_train))"
   ]
  },
  {
   "cell_type": "code",
   "execution_count": null,
   "id": "ab24f076-bf90-4162-a6a1-6b904f0994bf",
   "metadata": {},
   "outputs": [],
   "source": [
    "#1v1\n",
    "# no good results\n",
    "#print(\"Start fitting\")\n",
    "#clf = svm.SVC(decision_function_shape='ovo')\n",
    "#clf.fit(X_train, y_train)\n",
    "#\n",
    "#print(\"Start predicting\")\n",
    "#y_pred_clf = clf.predict(X_test)"
   ]
  },
  {
   "cell_type": "code",
   "execution_count": null,
   "id": "3af9a785-abbe-4eff-b54c-acb50333d582",
   "metadata": {},
   "outputs": [
    {
     "name": "stdout",
     "output_type": "stream",
     "text": [
      "Start fitting\n"
     ]
    },
    {
     "name": "stderr",
     "output_type": "stream",
     "text": [
      "/home/iwijn/ml/machine-learning-project/venv/lib/python3.9/site-packages/sklearn/svm/_base.py:1199: ConvergenceWarning: Liblinear failed to converge, increase the number of iterations.\n",
      "  warnings.warn(\n"
     ]
    },
    {
     "name": "stdout",
     "output_type": "stream",
     "text": [
      "Start predicting\n"
     ]
    }
   ],
   "source": [
    "# 1vRest\n",
    "#print(\"Start fitting\")\n",
    "#lin_clf = svm.LinearSVC()\n",
    "#lin_clf.fit(X_train, y_train)\n",
    "#\n",
    "#print(\"Start predicting\")\n",
    "#y_pred_lin_clf = lin_clf.predict(X_test)\n",
    "#print(\"Done\")"
   ]
  },
  {
   "cell_type": "code",
   "execution_count": null,
   "id": "c6feea2b-0a06-4c0e-835e-061f5a1c848d",
   "metadata": {},
   "outputs": [
    {
     "name": "stdout",
     "output_type": "stream",
     "text": [
      "Calculating metrics\n",
      "                      cluser f1_per_cluster\n",
      "                           0              0\n",
      "0       L2/3 IT VISp Adamts2       0.000000\n",
      "1         L2/3 IT VISp Agmat       0.829268\n",
      "2           L4 IT VISp Rspo1       0.934673\n",
      "3   L5 IT VISp Hsd11b1 Endou       0.941176\n",
      "4    L6 IT VISp Penk Col27a1       0.978102\n",
      "..                       ...            ...\n",
      "83               Lamp5 Krt73       0.888889\n",
      "84                       NaN       0.866667\n",
      "85                       NaN       0.800000\n",
      "86                       NaN       0.000000\n",
      "87                       NaN       0.333333\n",
      "\n",
      "[88 rows x 2 columns]\n",
      "0.8143525741029641\n"
     ]
    }
   ],
   "source": [
    "#print(\"Calculating metrics\")\n",
    "#f1 = metrics.f1_score(y_test, y_pred, average=None)\n",
    "#acc = metrics.accuracy_score(y_test, y_pred)\n",
    "#\n",
    "#unique_labels_df = pd.DataFrame(pd.Series(y_test).unique())\n",
    "#f1_df = pd.DataFrame(f1)\n",
    "#print(pd.concat([unique_labels_df, f1_df], axis=1, keys=['cluser', 'f1_per_cluster']))\n",
    "#print(acc)\n",
    "\n",
    "#  Problem: not all lables were included in training part of dataset => solution: larger and random"
   ]
  },
  {
   "cell_type": "code",
   "execution_count": null,
   "id": "5cca4a68-8a20-4f49-8ae3-c63399756e0a",
   "metadata": {},
   "outputs": [],
   "source": []
  },
  {
   "cell_type": "code",
   "execution_count": null,
   "id": "d225e998-46a3-4623-aee7-741f70169206",
   "metadata": {},
   "outputs": [],
   "source": []
  }
 ],
 "metadata": {
  "kernelspec": {
   "display_name": "ml",
   "language": "python",
   "name": "ml"
  },
  "language_info": {
   "codemirror_mode": {
    "name": "ipython",
    "version": 3
   },
   "file_extension": ".py",
   "mimetype": "text/x-python",
   "name": "python",
   "nbconvert_exporter": "python",
   "pygments_lexer": "ipython3",
   "version": "3.9.7"
  }
 },
 "nbformat": 4,
 "nbformat_minor": 5
}
