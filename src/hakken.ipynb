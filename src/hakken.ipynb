{
 "cells": [
  {
   "cell_type": "code",
   "execution_count": 1,
   "id": "9b68e916-3b2d-4394-961f-8eec60a44978",
   "metadata": {},
   "outputs": [
    {
     "name": "stdout",
     "output_type": "stream",
     "text": [
      "remote: Enumerating objects: 11, done.\u001b[K\n",
      "remote: Counting objects: 100% (11/11), done.\u001b[K\n",
      "remote: Compressing objects: 100% (3/3), done.\u001b[K\n",
      "remote: Total 7 (delta 4), reused 7 (delta 4), pack-reused 0\u001b[K\n",
      "Unpacking objects: 100% (7/7), 2.91 KiB | 1.45 MiB/s, done.\n",
      "From github.ugent.be:ivoeten/machine-learning-project\n",
      "   5101cdc..2d75b23  dev        -> origin/dev\n",
      "Updating 5101cdc..2d75b23\n",
      "Fast-forward\n",
      " src/filtering.ipynb     |  14 \u001b[31m--\u001b[m\n",
      " src/preprocessing.ipynb | 408 \u001b[32m++++++++++++++++++++++++++++++++++++++++++++++++\u001b[m\n",
      " 2 files changed, 408 insertions(+), 14 deletions(-)\n",
      " delete mode 100644 src/filtering.ipynb\n",
      " create mode 100644 src/preprocessing.ipynb\n"
     ]
    }
   ],
   "source": [
    "!git pull"
   ]
  },
  {
   "cell_type": "code",
   "execution_count": 2,
   "id": "b309c70e-3d9e-49e1-9ab6-afa42d7da1eb",
   "metadata": {},
   "outputs": [
    {
     "name": "stdout",
     "output_type": "stream",
     "text": [
      "Opening in existing browser session.\n"
     ]
    }
   ],
   "source": [
    "!google-chrome-stable \"https://www.youtube.com/watch?v=dQw4w9WgXcQ\"\n",
    "# :0"
   ]
  },
  {
   "cell_type": "code",
   "execution_count": null,
   "id": "f731c309-f20d-4030-9be6-22e9ff3d66ef",
   "metadata": {},
   "outputs": [],
   "source": []
  }
 ],
 "metadata": {
  "kernelspec": {
   "display_name": "ml",
   "language": "python",
   "name": "ml"
  },
  "language_info": {
   "codemirror_mode": {
    "name": "ipython",
    "version": 3
   },
   "file_extension": ".py",
   "mimetype": "text/x-python",
   "name": "python",
   "nbconvert_exporter": "python",
   "pygments_lexer": "ipython3",
   "version": "3.9.7"
  }
 },
 "nbformat": 4,
 "nbformat_minor": 5
}
